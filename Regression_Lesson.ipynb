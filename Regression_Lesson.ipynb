{
 "cells": [
  {
   "cell_type": "markdown",
   "metadata": {},
   "source": [
    "# Linear Regression in Python\n",
    "## Goals\n",
    "### Learning Agenda\n",
    "Use Python (Pandas, Matplotlib, Scipy, Scikit-Learn) to perform regression\n",
    "\n",
    "### Example Challenge\n",
    "1. Predict students' final grades using the first exam of the semester\n",
    "2. Predict students' final grades using the first three exams of the semester\n",
    "\n",
    "### The Plan\n",
    "1. Prepare the Environment\n",
    "2. Pandas: read a local csv\n",
    "3. Pandas: sample and summarize\n",
    "4. Pandas: ensure no null values\n",
    "5. SKlearn: split into test/train\n",
    "6. Matplotlib & Seaborn: Explore\n",
    "7. Scipy: Pearson's correlation\n",
    "8. Statsmodels: Feature Selection\n",
    "9. Scikit-Learn: Fit Linear Regression Models, In-Sample Predictions\n",
    "10. Scikit-Learn: In-Sample Evaluations\n",
    "11. Scikit-Learn: Make any changes needed & repeat 9-10 as needed\n",
    "12. Scikit-Learn: Out-of-sample predictions using best model\n",
    "13. Exercises"
   ]
  },
  {
   "cell_type": "markdown",
   "metadata": {},
   "source": [
    "# 1. Prepare the Environment"
   ]
  },
  {
   "cell_type": "code",
   "execution_count": 46,
   "metadata": {},
   "outputs": [],
   "source": [
    "# # ignore warnings\n",
    "# import warnings\n",
    "# warnings.filterwarnings(\"ignore\")\n",
    "\n",
    "# Wrangling\n",
    "import pandas as pd\n",
    "\n",
    "# Exploring\n",
    "import scipy.stats as stats\n",
    "\n",
    "# Visualizing\n",
    "%matplotlib inline\n",
    "import matplotlib.pyplot as plt\n",
    "import seaborn as sns\n",
    "plt.style.use('classic')\n",
    "\n",
    "# Modeling\n",
    "import statsmodels.api as sm\n",
    "\n",
    "from scipy.stats import pearsonr\n",
    "\n",
    "from sklearn.model_selection import train_test_split\n",
    "from sklearn.linear_model import LinearRegression\n",
    "from sklearn.metrics import mean_squared_error, r2_score, mean_absolute_error, median_absolute_error"
   ]
  },
  {
   "cell_type": "markdown",
   "metadata": {},
   "source": [
    "# 2. Pandas: read a local csv"
   ]
  },
  {
   "cell_type": "code",
   "execution_count": 37,
   "metadata": {},
   "outputs": [],
   "source": [
    "path = '~/desktop/codeup_work/regression/'\n",
    "df = pd.read_csv(path + \"student_grades.csv\")"
   ]
  },
  {
   "cell_type": "markdown",
   "metadata": {},
   "source": [
    "# 3. Pandas: sample and summarize"
   ]
  },
  {
   "cell_type": "code",
   "execution_count": 6,
   "metadata": {},
   "outputs": [
    {
     "data": {
      "text/html": [
       "<div>\n",
       "<style scoped>\n",
       "    .dataframe tbody tr th:only-of-type {\n",
       "        vertical-align: middle;\n",
       "    }\n",
       "\n",
       "    .dataframe tbody tr th {\n",
       "        vertical-align: top;\n",
       "    }\n",
       "\n",
       "    .dataframe thead th {\n",
       "        text-align: right;\n",
       "    }\n",
       "</style>\n",
       "<table border=\"1\" class=\"dataframe\">\n",
       "  <thead>\n",
       "    <tr style=\"text-align: right;\">\n",
       "      <th></th>\n",
       "      <th>student_id</th>\n",
       "      <th>exam1</th>\n",
       "      <th>exam2</th>\n",
       "      <th>exam3</th>\n",
       "      <th>final_grade</th>\n",
       "    </tr>\n",
       "  </thead>\n",
       "  <tbody>\n",
       "    <tr>\n",
       "      <th>0</th>\n",
       "      <td>1</td>\n",
       "      <td>100</td>\n",
       "      <td>90</td>\n",
       "      <td>95</td>\n",
       "      <td>96</td>\n",
       "    </tr>\n",
       "    <tr>\n",
       "      <th>1</th>\n",
       "      <td>2</td>\n",
       "      <td>98</td>\n",
       "      <td>93</td>\n",
       "      <td>96</td>\n",
       "      <td>95</td>\n",
       "    </tr>\n",
       "    <tr>\n",
       "      <th>2</th>\n",
       "      <td>3</td>\n",
       "      <td>85</td>\n",
       "      <td>83</td>\n",
       "      <td>87</td>\n",
       "      <td>87</td>\n",
       "    </tr>\n",
       "    <tr>\n",
       "      <th>3</th>\n",
       "      <td>4</td>\n",
       "      <td>83</td>\n",
       "      <td>80</td>\n",
       "      <td>86</td>\n",
       "      <td>85</td>\n",
       "    </tr>\n",
       "    <tr>\n",
       "      <th>4</th>\n",
       "      <td>5</td>\n",
       "      <td>93</td>\n",
       "      <td>90</td>\n",
       "      <td>96</td>\n",
       "      <td>97</td>\n",
       "    </tr>\n",
       "  </tbody>\n",
       "</table>\n",
       "</div>"
      ],
      "text/plain": [
       "   student_id  exam1  exam2  exam3  final_grade\n",
       "0           1    100     90     95           96\n",
       "1           2     98     93     96           95\n",
       "2           3     85     83     87           87\n",
       "3           4     83     80     86           85\n",
       "4           5     93     90     96           97"
      ]
     },
     "execution_count": 6,
     "metadata": {},
     "output_type": "execute_result"
    }
   ],
   "source": [
    "df.head()"
   ]
  },
  {
   "cell_type": "code",
   "execution_count": 7,
   "metadata": {},
   "outputs": [
    {
     "data": {
      "text/plain": [
       "(104, 5)"
      ]
     },
     "execution_count": 7,
     "metadata": {},
     "output_type": "execute_result"
    }
   ],
   "source": [
    "df.shape"
   ]
  },
  {
   "cell_type": "code",
   "execution_count": 8,
   "metadata": {},
   "outputs": [
    {
     "data": {
      "text/html": [
       "<div>\n",
       "<style scoped>\n",
       "    .dataframe tbody tr th:only-of-type {\n",
       "        vertical-align: middle;\n",
       "    }\n",
       "\n",
       "    .dataframe tbody tr th {\n",
       "        vertical-align: top;\n",
       "    }\n",
       "\n",
       "    .dataframe thead th {\n",
       "        text-align: right;\n",
       "    }\n",
       "</style>\n",
       "<table border=\"1\" class=\"dataframe\">\n",
       "  <thead>\n",
       "    <tr style=\"text-align: right;\">\n",
       "      <th></th>\n",
       "      <th>student_id</th>\n",
       "      <th>exam1</th>\n",
       "      <th>exam2</th>\n",
       "      <th>exam3</th>\n",
       "      <th>final_grade</th>\n",
       "    </tr>\n",
       "  </thead>\n",
       "  <tbody>\n",
       "    <tr>\n",
       "      <th>count</th>\n",
       "      <td>104.000000</td>\n",
       "      <td>104.000000</td>\n",
       "      <td>104.000000</td>\n",
       "      <td>104.000000</td>\n",
       "      <td>104.000000</td>\n",
       "    </tr>\n",
       "    <tr>\n",
       "      <th>mean</th>\n",
       "      <td>52.500000</td>\n",
       "      <td>78.461538</td>\n",
       "      <td>77.307692</td>\n",
       "      <td>84.153846</td>\n",
       "      <td>81.692308</td>\n",
       "    </tr>\n",
       "    <tr>\n",
       "      <th>std</th>\n",
       "      <td>30.166206</td>\n",
       "      <td>14.284844</td>\n",
       "      <td>10.295703</td>\n",
       "      <td>8.714199</td>\n",
       "      <td>10.918122</td>\n",
       "    </tr>\n",
       "    <tr>\n",
       "      <th>min</th>\n",
       "      <td>1.000000</td>\n",
       "      <td>57.000000</td>\n",
       "      <td>65.000000</td>\n",
       "      <td>70.000000</td>\n",
       "      <td>65.000000</td>\n",
       "    </tr>\n",
       "    <tr>\n",
       "      <th>25%</th>\n",
       "      <td>26.750000</td>\n",
       "      <td>70.000000</td>\n",
       "      <td>70.000000</td>\n",
       "      <td>78.000000</td>\n",
       "      <td>72.000000</td>\n",
       "    </tr>\n",
       "    <tr>\n",
       "      <th>50%</th>\n",
       "      <td>52.500000</td>\n",
       "      <td>79.000000</td>\n",
       "      <td>75.000000</td>\n",
       "      <td>85.000000</td>\n",
       "      <td>81.000000</td>\n",
       "    </tr>\n",
       "    <tr>\n",
       "      <th>75%</th>\n",
       "      <td>78.250000</td>\n",
       "      <td>92.000000</td>\n",
       "      <td>89.000000</td>\n",
       "      <td>94.000000</td>\n",
       "      <td>93.000000</td>\n",
       "    </tr>\n",
       "    <tr>\n",
       "      <th>max</th>\n",
       "      <td>104.000000</td>\n",
       "      <td>100.000000</td>\n",
       "      <td>93.000000</td>\n",
       "      <td>96.000000</td>\n",
       "      <td>97.000000</td>\n",
       "    </tr>\n",
       "  </tbody>\n",
       "</table>\n",
       "</div>"
      ],
      "text/plain": [
       "       student_id       exam1       exam2       exam3  final_grade\n",
       "count  104.000000  104.000000  104.000000  104.000000   104.000000\n",
       "mean    52.500000   78.461538   77.307692   84.153846    81.692308\n",
       "std     30.166206   14.284844   10.295703    8.714199    10.918122\n",
       "min      1.000000   57.000000   65.000000   70.000000    65.000000\n",
       "25%     26.750000   70.000000   70.000000   78.000000    72.000000\n",
       "50%     52.500000   79.000000   75.000000   85.000000    81.000000\n",
       "75%     78.250000   92.000000   89.000000   94.000000    93.000000\n",
       "max    104.000000  100.000000   93.000000   96.000000    97.000000"
      ]
     },
     "execution_count": 8,
     "metadata": {},
     "output_type": "execute_result"
    }
   ],
   "source": [
    "df.describe()"
   ]
  },
  {
   "cell_type": "markdown",
   "metadata": {},
   "source": [
    "### Exercise\n",
    "\n",
    "Extract information from the results of describe in order to compute IQR and range\n",
    "\n",
    "IQR = \n",
    "\n",
    "Range = "
   ]
  },
  {
   "cell_type": "code",
   "execution_count": 9,
   "metadata": {},
   "outputs": [
    {
     "name": "stdout",
     "output_type": "stream",
     "text": [
      "<class 'pandas.core.frame.DataFrame'>\n",
      "RangeIndex: 104 entries, 0 to 103\n",
      "Data columns (total 5 columns):\n",
      "student_id     104 non-null int64\n",
      "exam1          104 non-null int64\n",
      "exam2          104 non-null int64\n",
      "exam3          104 non-null int64\n",
      "final_grade    104 non-null int64\n",
      "dtypes: int64(5)\n",
      "memory usage: 4.1 KB\n"
     ]
    }
   ],
   "source": [
    "df.info()"
   ]
  },
  {
   "cell_type": "markdown",
   "metadata": {},
   "source": [
    "# 4. Pandas: ensure no null values\n",
    "\n",
    "The above can tell you something about missing values when you compare the entries with each fields non-null values. You can also do this for a more direct compuation:"
   ]
  },
  {
   "cell_type": "code",
   "execution_count": 11,
   "metadata": {},
   "outputs": [
    {
     "name": "stdout",
     "output_type": "stream",
     "text": [
      "student_id     0\n",
      "exam1          0\n",
      "exam2          0\n",
      "exam3          0\n",
      "final_grade    0\n",
      "dtype: int64\n"
     ]
    }
   ],
   "source": [
    "print(df.isnull().sum())\n",
    "# or  print(df.columns[df.isnull().any()])"
   ]
  },
  {
   "cell_type": "markdown",
   "metadata": {},
   "source": [
    "# 5. Distribution, Skewness, Normalization & Standardization\n",
    "\n",
    "Plot histograms &/or boxplots to see the distribution, skewness, outliers, and unit scales. You will use this information in your decision of whether to normalize, standardize or neither.\n",
    "\n",
    "## Histogram\n",
    "There are 2 ways we can go about plotting histograms for multiple variables.\n",
    "\n",
    "1. melt the data frame into a long data set and use seaborn's 'FacetGrid' to plot each histogram quickly.\n",
    "2. use matplotlib with subplots\n",
    "\n",
    "MELT DATA AND USE FACETGRID TO PLOT HISTOGRAM"
   ]
  },
  {
   "cell_type": "code",
   "execution_count": 12,
   "metadata": {},
   "outputs": [
    {
     "data": {
      "text/html": [
       "<div>\n",
       "<style scoped>\n",
       "    .dataframe tbody tr th:only-of-type {\n",
       "        vertical-align: middle;\n",
       "    }\n",
       "\n",
       "    .dataframe tbody tr th {\n",
       "        vertical-align: top;\n",
       "    }\n",
       "\n",
       "    .dataframe thead th {\n",
       "        text-align: right;\n",
       "    }\n",
       "</style>\n",
       "<table border=\"1\" class=\"dataframe\">\n",
       "  <thead>\n",
       "    <tr style=\"text-align: right;\">\n",
       "      <th></th>\n",
       "      <th>student_id</th>\n",
       "      <th>grade_type</th>\n",
       "      <th>score</th>\n",
       "    </tr>\n",
       "  </thead>\n",
       "  <tbody>\n",
       "    <tr>\n",
       "      <th>0</th>\n",
       "      <td>1</td>\n",
       "      <td>exam1</td>\n",
       "      <td>100</td>\n",
       "    </tr>\n",
       "    <tr>\n",
       "      <th>1</th>\n",
       "      <td>2</td>\n",
       "      <td>exam1</td>\n",
       "      <td>98</td>\n",
       "    </tr>\n",
       "    <tr>\n",
       "      <th>2</th>\n",
       "      <td>3</td>\n",
       "      <td>exam1</td>\n",
       "      <td>85</td>\n",
       "    </tr>\n",
       "    <tr>\n",
       "      <th>3</th>\n",
       "      <td>4</td>\n",
       "      <td>exam1</td>\n",
       "      <td>83</td>\n",
       "    </tr>\n",
       "    <tr>\n",
       "      <th>4</th>\n",
       "      <td>5</td>\n",
       "      <td>exam1</td>\n",
       "      <td>93</td>\n",
       "    </tr>\n",
       "  </tbody>\n",
       "</table>\n",
       "</div>"
      ],
      "text/plain": [
       "   student_id grade_type  score\n",
       "0           1      exam1    100\n",
       "1           2      exam1     98\n",
       "2           3      exam1     85\n",
       "3           4      exam1     83\n",
       "4           5      exam1     93"
      ]
     },
     "execution_count": 12,
     "metadata": {},
     "output_type": "execute_result"
    }
   ],
   "source": [
    "# we will create a melted version of train for visualization purposes\n",
    "df_melted = pd.melt(df, id_vars=['student_id'], value_vars=['exam1','exam2','exam3','final_grade'], \n",
    "                    var_name='grade_type', value_name='score')\n",
    "\n",
    "df_melted.head()"
   ]
  },
  {
   "cell_type": "code",
   "execution_count": 38,
   "metadata": {},
   "outputs": [
    {
     "data": {
      "image/png": "[encoded data removed]",
      "text/plain": [
       "<Figure size 864x216 with 4 Axes>"
      ]
     },
     "metadata": {
      "needs_background": "light"
     },
     "output_type": "display_data"
    }
   ],
   "source": [
    "# Histogram\n",
    "grid = sns.FacetGrid(df_melted, col=\"grade_type\", margin_titles=True)\n",
    "grid.map(plt.hist, \"score\", bins=20); #this tells it what to plot and what type of plot"
   ]
  },
  {
   "cell_type": "markdown",
   "metadata": {},
   "source": [
    "USING MATPLOTLIB WITH SUBPLOTS"
   ]
  },
  {
   "cell_type": "code",
   "execution_count": 39,
   "metadata": {},
   "outputs": [
    {
     "data": {
      "image/png": "[encoded data removed]",
      "text/plain": [
       "<Figure size 1152x720 with 4 Axes>"
      ]
     },
     "metadata": {
      "needs_background": "light"
     },
     "output_type": "display_data"
    }
   ],
   "source": [
    "plt.figure(figsize=(16, 10))\n",
    "\n",
    "# this for loop is instead of putting \n",
    "# for i in len(list):\n",
    "#      list[i]\n",
    "# so i goes from 0,1,2,3\n",
    "# and col goes from exam1,exam2,exam3,final_grade\n",
    "for i, col in enumerate(['exam1', 'exam2', 'exam3', 'final_grade']):\n",
    "    plot_number = i + 1 # i starts at 0, but plot nos should start at 1\n",
    "    series = df[col] #this accesses the entire column\n",
    "    plt.subplot(2, 2, plot_number)\n",
    "    plt.title(col)\n",
    "    series.hist(bins=20, density=False, cumulative=False, log=False)\n"
   ]
  },
  {
   "cell_type": "markdown",
   "metadata": {},
   "source": [
    "### Question: what would happen if I added another chart to position 142?\n",
    "\n",
    "#### Box Plot\n",
    "\n",
    "seaborn will default to plotting all the numeric variables if we don't specify specific x and y values. This is the behavior we want, except we don't want to plot the student_id column.\n",
    "\n",
    "We'll use the .drop method to remove the student_id column from the data frame. Recall that .drop will produce a new data frame without the specified column(s), but will not modify the original data frame."
   ]
  },
  {
   "cell_type": "code",
   "execution_count": 15,
   "metadata": {},
   "outputs": [
    {
     "data": {
      "text/plain": [
       "<matplotlib.axes._subplots.AxesSubplot at 0x1c222d8e48>"
      ]
     },
     "execution_count": 15,
     "metadata": {},
     "output_type": "execute_result"
    },
    {
     "data": {
      "image/png": "[encoded data removed]",
      "text/plain": [
       "<Figure size 576x288 with 1 Axes>"
      ]
     },
     "metadata": {
      "needs_background": "light"
     },
     "output_type": "display_data"
    }
   ],
   "source": [
    "plt.figure(figsize=(8,4))\n",
    "sns.boxplot(data=df.drop(columns=['student_id']))"
   ]
  },
  {
   "cell_type": "markdown",
   "metadata": {},
   "source": [
    "# 6. SKlearn: split into test/train"
   ]
  },
  {
   "cell_type": "code",
   "execution_count": 41,
   "metadata": {},
   "outputs": [],
   "source": [
    "# test_train_split\n",
    "# axis = 1 references columns\n",
    "# axis = 0 would reference rows\n",
    "# could select instead of dropping, but usually\n",
    "# more independent variables than dependent ones\n",
    "# note capital X and lower case y...\n",
    "# X contains all of the variables, x1, x2, x3,...xn\n",
    "# whereas y is only y, the function\n",
    "\n",
    "X = df.drop(['final_grade','student_id'], axis=1)\n",
    "y = df[['final_grade']]\n",
    "\n",
    "# note it's train_test_split, not test_train_split\n",
    "# the more observations you have, the closer train_size gets to .5\n",
    "# random_state sets the seed for the random number generator so that\n",
    "# you can duplicate your results\n",
    "# train_test_split returns four dataframes in order...\n",
    "\n",
    "X_train, X_test, y_train, y_test = train_test_split(X, y, train_size=.80, random_state=0)\n",
    "\n",
    "# this returns four dataframes\n",
    "# need to separate X and y for some uses, \n",
    "# but also need them in one datafram\n",
    "\n",
    "train = pd.concat([X_train, y_train], axis=1)\n",
    "test = pd.concat([X_test, y_test], axis=1)"
   ]
  },
  {
   "cell_type": "markdown",
   "metadata": {},
   "source": [
    "Below we show some python code that validates that the splits are what we would expect. That is, we ensure that:\n",
    "\n",
    "* the number of rows in both the x and y training data set are equal\n",
    "* the number of rows in both the x and y testing data set are equal\n",
    "* the number of columns in the training and test data sets are the same\n",
    "* the training data set is 80% of the original data, the test set is 20%"
   ]
  },
  {
   "cell_type": "code",
   "execution_count": 17,
   "metadata": {},
   "outputs": [
    {
     "name": "stdout",
     "output_type": "stream",
     "text": [
      "X & y train rows ARE equal\n",
      "X & y test rows ARE equal\n",
      "Number of columns in train & test ARE equal\n",
      "Train Split: 0.80\n",
      "Test Split: 0.20\n"
     ]
    }
   ],
   "source": [
    "if X_train.shape[0] == y_train.shape[0]:\n",
    "    print(\"X & y train rows ARE equal\")\n",
    "else:\n",
    "    print(\"X & y train rows ARE NOT equal\")\n",
    "\n",
    "\n",
    "if X_test.shape[0] == y_test.shape[0]:\n",
    "    print(\"X & y test rows ARE equal\")\n",
    "else:\n",
    "    print(\"X & y test rows ARE NOT equal\")\n",
    "\n",
    "if train.shape[1] == test.shape[1]:\n",
    "    print(\"Number of columns in train & test ARE equal\")\n",
    "else:\n",
    "    print(\"Number of columns in train & test ARE NOT equal\")\n",
    "\n",
    "train_split = train.shape[0] / (train.shape[0] + test.shape[0])\n",
    "test_split = test.shape[0] / (train.shape[0] + test.shape[0])\n",
    "\n",
    "print(\"Train Split: %.2f\" % train_split)\n",
    "print(\"Test Split: %.2f\" % test_split)"
   ]
  },
  {
   "cell_type": "markdown",
   "metadata": {},
   "source": [
    "# 7. Matplotlib & Seaborn: Explore\n",
    "* Graphs are many and are quickly made\n",
    "* Axis and labels are cleaned up later\n",
    "* Color and size are used for information, not asthetics\n",
    "* Graph types include box plts, heatmaps, histograms, density plots, feature or correlation plots\n",
    "* Jointplot: Scatterplot with Density Plots\n",
    "* PairGrid: Scatterplots with Histograms\n",
    "* Heatmap\n",
    "\n",
    "### Scatterplot + Density Plots\n"
   ]
  },
  {
   "cell_type": "code",
   "execution_count": 18,
   "metadata": {},
   "outputs": [
    {
     "name": "stderr",
     "output_type": "stream",
     "text": [
      "/usr/local/anaconda3/lib/python3.7/site-packages/seaborn/axisgrid.py:1847: UserWarning: JointGrid annotation is deprecated and will be removed in a future release.\n",
      "  warnings.warn(UserWarning(msg))\n"
     ]
    },
    {
     "data": {
      "image/png": "[encoded data removed]",
      "text/plain": [
       "<Figure size 360x360 with 3 Axes>"
      ]
     },
     "metadata": {},
     "output_type": "display_data"
    }
   ],
   "source": [
    "with sns.axes_style('white'):\n",
    "    j = sns.jointplot(\"exam1\", \"final_grade\", data=train, kind='reg', height=5);\n",
    "    # could also put\n",
    "    # j = sns.jointplot(X_train['exam1'], X_train['final_grade'], kind='reg', height=5);\n",
    "    # or could do\n",
    "    # j = sns.jointplot(X_train['exam1'], y_train['final_grade'], kind='reg', height=5);\n",
    "\n",
    "    j.annotate(stats.pearsonr)\n",
    "plt.show()"
   ]
  },
  {
   "cell_type": "markdown",
   "metadata": {},
   "source": [
    "### Exercise\n",
    "1. Write a for loop to plot each of the 3 features with final_grade using a jointplot.\n",
    "2. What can you say about each relationship (using pearson's r and the p-value)\n",
    "\n",
    "### Histogram + Scatterplots"
   ]
  },
  {
   "cell_type": "code",
   "execution_count": 20,
   "metadata": {},
   "outputs": [
    {
     "data": {
      "image/png": "[encoded data removed]",
      "text/plain": [
       "<Figure size 720x720 with 20 Axes>"
      ]
     },
     "metadata": {
      "needs_background": "light"
     },
     "output_type": "display_data"
    }
   ],
   "source": [
    "# This is roughly equivalent to sns.jointplot, but we see here that we have the\n",
    "# flexibility to customize the type of the plots in each position.\n",
    "\n",
    "g = sns.PairGrid(train)\n",
    "g.map_diag(plt.hist)\n",
    "g.map_offdiag(plt.scatter);"
   ]
  },
  {
   "cell_type": "markdown",
   "metadata": {},
   "source": [
    "### Heatmap"
   ]
  },
  {
   "cell_type": "code",
   "execution_count": 21,
   "metadata": {},
   "outputs": [
    {
     "data": {
      "text/plain": [
       "<matplotlib.axes._subplots.AxesSubplot at 0x1c230edfd0>"
      ]
     },
     "execution_count": 21,
     "metadata": {},
     "output_type": "execute_result"
    },
    {
     "data": {
      "image/png": "[encoded data removed]",
      "text/plain": [
       "<Figure size 576x288 with 2 Axes>"
      ]
     },
     "metadata": {
      "needs_background": "light"
     },
     "output_type": "display_data"
    }
   ],
   "source": [
    "plt.figure(figsize=(8,4))\n",
    "sns.heatmap(train.corr(), cmap='Blues', annot=True)"
   ]
  },
  {
   "cell_type": "markdown",
   "metadata": {},
   "source": [
    "### Exercise\n",
    "\n",
    "1. What is the difference in using plt.show() and not using plt.show()?\n",
    "2. Find a way to plot a boxplot and heatmap side by side.\n",
    "\n",
    "# 7. Scipy: Pearson's Correlation\n",
    "\n",
    "### stats.pearsonr\n",
    "This line only finds r for exam/y_train"
   ]
  },
  {
   "cell_type": "code",
   "execution_count": 22,
   "metadata": {},
   "outputs": [
    {
     "data": {
      "text/plain": [
       "(array([0.98548827]), array([3.67959731e-64]))"
      ]
     },
     "execution_count": 22,
     "metadata": {},
     "output_type": "execute_result"
    }
   ],
   "source": [
    "pearsonr(X_train[['exam1']], y_train)"
   ]
  },
  {
   "cell_type": "markdown",
   "metadata": {},
   "source": [
    "### List Comprehension\n",
    "This line finds r for all the columns in X_train"
   ]
  },
  {
   "cell_type": "code",
   "execution_count": 23,
   "metadata": {},
   "outputs": [
    {
     "data": {
      "text/plain": [
       "[['exam1', (0.9854882734738365, 3.679597306767771e-64)],\n",
       " ['exam2', (0.9260773842724218, 4.9387065956533756e-36)],\n",
       " ['exam3', (0.9604227932900589, 1.0003417783597307e-46)]]"
      ]
     },
     "execution_count": 23,
     "metadata": {},
     "output_type": "execute_result"
    }
   ],
   "source": [
    "[[column, pearsonr(train[column], train.final_grade)] for column in X_train] "
   ]
  },
  {
   "cell_type": "markdown",
   "metadata": {},
   "source": [
    "### Create Dictionary\n",
    "This block of code puts the r values into a dictionary"
   ]
  },
  {
   "cell_type": "code",
   "execution_count": 24,
   "metadata": {},
   "outputs": [
    {
     "data": {
      "text/plain": [
       "{'exam1': (0.9854882734738365, 3.679597306767771e-64),\n",
       " 'exam2': (0.9260773842724218, 4.9387065956533756e-36),\n",
       " 'exam3': (0.9604227932900589, 1.0003417783597307e-46)}"
      ]
     },
     "execution_count": 24,
     "metadata": {},
     "output_type": "execute_result"
    }
   ],
   "source": [
    "column_names = X_train.columns\n",
    "r_and_p_values = [pearsonr(X_train[col], y_train.final_grade) for col in column_names]\n",
    "\n",
    "exam_final_corr_dict = dict(zip(column_names, r_and_p_values))\n",
    "exam_final_corr_dict"
   ]
  },
  {
   "cell_type": "markdown",
   "metadata": {},
   "source": [
    "# 8. Statsmodels: Feature Selection\n",
    "\n",
    "### Feature selection using statsmodels.OLS (Ordinary Least Squares)"
   ]
  },
  {
   "cell_type": "code",
   "execution_count": 25,
   "metadata": {},
   "outputs": [
    {
     "data": {
      "text/html": [
       "<table class=\"simpletable\">\n",
       "<caption>OLS Regression Results</caption>\n",
       "<tr>\n",
       "  <th>Dep. Variable:</th>       <td>final_grade</td>   <th>  R-squared:         </th> <td>   0.999</td> \n",
       "</tr>\n",
       "<tr>\n",
       "  <th>Model:</th>                   <td>OLS</td>       <th>  Adj. R-squared:    </th> <td>   0.999</td> \n",
       "</tr>\n",
       "<tr>\n",
       "  <th>Method:</th>             <td>Least Squares</td>  <th>  F-statistic:       </th> <td>5.103e+04</td>\n",
       "</tr>\n",
       "<tr>\n",
       "  <th>Date:</th>             <td>Tue, 19 Mar 2019</td> <th>  Prob (F-statistic):</th> <td>3.76e-131</td>\n",
       "</tr>\n",
       "<tr>\n",
       "  <th>Time:</th>                 <td>09:15:42</td>     <th>  Log-Likelihood:    </th> <td> -170.25</td> \n",
       "</tr>\n",
       "<tr>\n",
       "  <th>No. Observations:</th>      <td>    83</td>      <th>  AIC:               </th> <td>   346.5</td> \n",
       "</tr>\n",
       "<tr>\n",
       "  <th>Df Residuals:</th>          <td>    80</td>      <th>  BIC:               </th> <td>   353.8</td> \n",
       "</tr>\n",
       "<tr>\n",
       "  <th>Df Model:</th>              <td>     3</td>      <th>                     </th>     <td> </td>    \n",
       "</tr>\n",
       "<tr>\n",
       "  <th>Covariance Type:</th>      <td>nonrobust</td>    <th>                     </th>     <td> </td>    \n",
       "</tr>\n",
       "</table>\n",
       "<table class=\"simpletable\">\n",
       "<tr>\n",
       "    <td></td>       <th>coef</th>     <th>std err</th>      <th>t</th>      <th>P>|t|</th>  <th>[0.025</th>    <th>0.975]</th>  \n",
       "</tr>\n",
       "<tr>\n",
       "  <th>exam1</th> <td>    0.4555</td> <td>    0.036</td> <td>   12.625</td> <td> 0.000</td> <td>    0.384</td> <td>    0.527</td>\n",
       "</tr>\n",
       "<tr>\n",
       "  <th>exam2</th> <td>   -0.0307</td> <td>    0.063</td> <td>   -0.486</td> <td> 0.629</td> <td>   -0.157</td> <td>    0.095</td>\n",
       "</tr>\n",
       "<tr>\n",
       "  <th>exam3</th> <td>    0.5728</td> <td>    0.049</td> <td>   11.633</td> <td> 0.000</td> <td>    0.475</td> <td>    0.671</td>\n",
       "</tr>\n",
       "</table>\n",
       "<table class=\"simpletable\">\n",
       "<tr>\n",
       "  <th>Omnibus:</th>       <td>30.491</td> <th>  Durbin-Watson:     </th> <td>   1.957</td>\n",
       "</tr>\n",
       "<tr>\n",
       "  <th>Prob(Omnibus):</th> <td> 0.000</td> <th>  Jarque-Bera (JB):  </th> <td>   7.671</td>\n",
       "</tr>\n",
       "<tr>\n",
       "  <th>Skew:</th>          <td> 0.427</td> <th>  Prob(JB):          </th> <td>  0.0216</td>\n",
       "</tr>\n",
       "<tr>\n",
       "  <th>Kurtosis:</th>      <td> 1.780</td> <th>  Cond. No.          </th> <td>    51.8</td>\n",
       "</tr>\n",
       "</table><br/><br/>Warnings:<br/>[1] Standard Errors assume that the covariance matrix of the errors is correctly specified."
      ],
      "text/plain": [
       "<class 'statsmodels.iolib.summary.Summary'>\n",
       "\"\"\"\n",
       "                            OLS Regression Results                            \n",
       "==============================================================================\n",
       "Dep. Variable:            final_grade   R-squared:                       0.999\n",
       "Model:                            OLS   Adj. R-squared:                  0.999\n",
       "Method:                 Least Squares   F-statistic:                 5.103e+04\n",
       "Date:                Tue, 19 Mar 2019   Prob (F-statistic):          3.76e-131\n",
       "Time:                        09:15:42   Log-Likelihood:                -170.25\n",
       "No. Observations:                  83   AIC:                             346.5\n",
       "Df Residuals:                      80   BIC:                             353.8\n",
       "Df Model:                           3                                         \n",
       "Covariance Type:            nonrobust                                         \n",
       "==============================================================================\n",
       "                 coef    std err          t      P>|t|      [0.025      0.975]\n",
       "------------------------------------------------------------------------------\n",
       "exam1          0.4555      0.036     12.625      0.000       0.384       0.527\n",
       "exam2         -0.0307      0.063     -0.486      0.629      -0.157       0.095\n",
       "exam3          0.5728      0.049     11.633      0.000       0.475       0.671\n",
       "==============================================================================\n",
       "Omnibus:                       30.491   Durbin-Watson:                   1.957\n",
       "Prob(Omnibus):                  0.000   Jarque-Bera (JB):                7.671\n",
       "Skew:                           0.427   Prob(JB):                       0.0216\n",
       "Kurtosis:                       1.780   Cond. No.                         51.8\n",
       "==============================================================================\n",
       "\n",
       "Warnings:\n",
       "[1] Standard Errors assume that the covariance matrix of the errors is correctly specified.\n",
       "\"\"\""
      ]
     },
     "execution_count": 25,
     "metadata": {},
     "output_type": "execute_result"
    }
   ],
   "source": [
    "ols_model = sm.OLS(y_train, X_train)\n",
    "fit = ols_model.fit()\n",
    "fit.summary()"
   ]
  },
  {
   "cell_type": "markdown",
   "metadata": {},
   "source": [
    "### Conclusion\n",
    "\n",
    "Looking at the p-values of the 3 exams, I am going to remove exam2 from the features as we are not seeing any significance of that with the final grade, our target variable.\n",
    "\n",
    "I will now use sklearn to create a model using exam 1, exam3 and exam 1 & 3 to compare results.\n",
    "\n",
    "(Well, I will model exam 1 (lm1) and exam 1 & 3 (lm2), and you will test exam 3 alone (lm3))\n",
    "\n",
    "# 9. Scikit-Learn: Fit Linear Regression Models, In-Sample Predictions\n",
    "\n",
    "Generally speaking, we'll use scikit-learn like this:\n",
    "\n",
    "1. Import the class(es) that we intend on using (we've already done this)\n",
    "2. Split the data into training and test (we've already done this)\n",
    "3. Create an instance of the class(es) to use\n",
    "4. Fit the model(s) with the training data\n",
    "5. Use the model(s) to make predictions\n",
    "6. Evaluate the performance of the model(s)\n",
    "\n",
    "### Create the linear regression object\n",
    "\n",
    "We'll create two separate models: one that is based solely on exam 1, and one that is based on exam 1 and exam 2."
   ]
  },
  {
   "cell_type": "code",
   "execution_count": 57,
   "metadata": {},
   "outputs": [
    {
     "name": "stdout",
     "output_type": "stream",
     "text": [
      "LinearRegression(copy_X=True, fit_intercept=True, n_jobs=None,\n",
      "         normalize=False)\n"
     ]
    }
   ],
   "source": [
    "# Create linear regression objects\n",
    "lm1 = LinearRegression()\n",
    "lm2 = LinearRegression()\n",
    "print(lm1)"
   ]
  },
  {
   "cell_type": "markdown",
   "metadata": {},
   "source": [
    "### Fit/Train the model\n",
    "\n",
    "This is where we feed the training data into the models, and model parameters are \"learned\"."
   ]
  },
  {
   "cell_type": "code",
   "execution_count": 27,
   "metadata": {},
   "outputs": [
    {
     "data": {
      "text/plain": [
       "LinearRegression(copy_X=True, fit_intercept=True, n_jobs=None,\n",
       "         normalize=False)"
      ]
     },
     "execution_count": 27,
     "metadata": {},
     "output_type": "execute_result"
    }
   ],
   "source": [
    "lm1.fit(X_train[['exam1']], y_train)\n",
    "lm2.fit(X_train[['exam1', 'exam3']], y_train)"
   ]
  },
  {
   "cell_type": "markdown",
   "metadata": {},
   "source": [
    "Let's take a look at the parameters that the models calulated:"
   ]
  },
  {
   "cell_type": "code",
   "execution_count": 28,
   "metadata": {},
   "outputs": [
    {
     "name": "stdout",
     "output_type": "stream",
     "text": [
      "Univariate - final_exam = b + m * exam1\n",
      "    y-intercept (b): 22.88\n",
      "    coefficient (m):  0.75\n",
      "\n",
      "Multivariate - final_exam = b + m1 * exam1 + m2 * exam3\n",
      "    y-intercept  (b): 12.80\n",
      "    coefficient (m1):  0.60\n",
      "    coefficient (m2):  0.26\n"
     ]
    }
   ],
   "source": [
    "print('Univariate - final_exam = b + m * exam1')\n",
    "print('    y-intercept (b): {:5.2f}'.format(lm1.intercept_[0]))\n",
    "print('    coefficient (m): {:5.2f}'.format(lm1.coef_[0][0]))\n",
    "print()\n",
    "print('Multivariate - final_exam = b + m1 * exam1 + m2 * exam3')\n",
    "print('    y-intercept  (b): {:5.2f}'.format(lm2.intercept_[0]))\n",
    "print('    coefficient (m1): {:5.2f}'.format(lm2.coef_[0][0]))\n",
    "print('    coefficient (m2): {:5.2f}'.format(lm2.coef_[0][1]))"
   ]
  },
  {
   "cell_type": "markdown",
   "metadata": {},
   "source": [
    "sklearn conventions\n",
    "\n",
    "Sklearn uses an underscore suffic to indicate properties which are learned from the data (as opposed to being inherit to the model itself.)\n",
    "\n",
    "IN-SAMPLE PREDICTION (TRAINING DATA)\n",
    "\n",
    "Now that we have a model, we can use the model to make predictions. We'll start by using our model to predict based on the test data set."
   ]
  },
  {
   "cell_type": "code",
   "execution_count": 59,
   "metadata": {},
   "outputs": [
    {
     "data": {
      "text/plain": [
       "{'copy_X': True, 'fit_intercept': True, 'n_jobs': None, 'normalize': False}"
      ]
     },
     "execution_count": 59,
     "metadata": {},
     "output_type": "execute_result"
    }
   ],
   "source": [
    "lm1.get_params()"
   ]
  },
  {
   "cell_type": "code",
   "execution_count": 29,
   "metadata": {},
   "outputs": [],
   "source": [
    "y_pred_lm1 = lm1.predict(X_train[['exam1']])\n",
    "y_pred_lm2 = lm2.predict(X_train.drop(columns=['exam2']))"
   ]
  },
  {
   "cell_type": "markdown",
   "metadata": {},
   "source": [
    "We can visualize the predictions by plotting the predictions vs the actual values:"
   ]
  },
  {
   "cell_type": "code",
   "execution_count": 30,
   "metadata": {},
   "outputs": [
    {
     "data": {
      "text/plain": [
       "Text(0.5, 1.0, 'Predicted vs Actual Final Grade')"
      ]
     },
     "execution_count": 30,
     "metadata": {},
     "output_type": "execute_result"
    },
    {
     "data": {
      "image/png": "[encoded data removed]",
      "text/plain": [
       "<Figure size 440.575x360 with 1 Axes>"
      ]
     },
     "metadata": {
      "needs_background": "light"
     },
     "output_type": "display_data"
    }
   ],
   "source": [
    "# the predictions are a 1 x 83 two dimensional matrix, but we want just\n",
    "# a single array of predictions. We can use the .ravel method to achieve\n",
    "# this.\n",
    "\n",
    "pd.DataFrame({'actual': y_train.final_grade,\n",
    "              'lm1': y_pred_lm1.ravel(),\n",
    "              'lm2': y_pred_lm2.ravel()})\\\n",
    "    .melt(id_vars=['actual'], var_name='model', value_name='prediction')\\\n",
    "    .pipe((sns.relplot, 'data'), x='actual', y='prediction', hue='model')\n",
    "\n",
    "plt.plot([60, 100], [60, 100], c='black', ls=':')\n",
    "plt.ylim(60, 100)\n",
    "plt.xlim(60, 100)\n",
    "plt.title('Predicted vs Actual Final Grade')"
   ]
  },
  {
   "cell_type": "markdown",
   "metadata": {},
   "source": [
    "Here the line down the middle represents \"perfect\" prediction. The further away from this line the are, the farther off the prediction was.\n",
    "\n",
    "# 10. Scikit-Learn: In-Sample Evaluations\n",
    "\n",
    "Now let's take a look at a couple performance metrics for our models: the mean squared error and r-squared values."
   ]
  },
  {
   "cell_type": "code",
   "execution_count": 31,
   "metadata": {},
   "outputs": [
    {
     "name": "stdout",
     "output_type": "stream",
     "text": [
      "lm1\n",
      "  mse: 3.37\n",
      "  97.12% of the variance in the students final grade can be explained by the grade on the first exam.\n",
      "lm2\n",
      "  mse: 2.94\n",
      "  97.49% of the variance in the students final grade can be explained by the grades on exam 1 and 3.\n"
     ]
    }
   ],
   "source": [
    "mse_lm1 = mean_squared_error(y_train, y_pred_lm1)\n",
    "print(\"lm1\\n  mse: {:.3}\".format(mse_lm1)) \n",
    "\n",
    "r2_lm1 = r2_score(y_train, y_pred_lm1)\n",
    "\n",
    "print('  {:.2%} of the variance in the student''s final grade can be explained by the grade on the first exam.'.format(r2_lm1))\n",
    "\n",
    "mse_lm2 = mean_squared_error(y_train, y_pred_lm2)\n",
    "print(\"lm2\\n  mse: {:.3}\".format(mse_lm2)) \n",
    "\n",
    "r2_lm2 = r2_score(y_train, y_pred_lm2)\n",
    "print('  {:.2%} of the variance in the student''s final grade can be explained by the grades on exam 1 and 3.'.format(r2_lm2))"
   ]
  },
  {
   "cell_type": "markdown",
   "metadata": {},
   "source": [
    "This is saying the actual grade is well predicted by exam1."
   ]
  },
  {
   "cell_type": "markdown",
   "metadata": {},
   "source": [
    "# 11. Scikit-Learn: Make any changes needed & repeat 9-10 as needed\n",
    "\n",
    "### Exercise"
   ]
  },
  {
   "cell_type": "markdown",
   "metadata": {},
   "source": [
    "1. What are your take-aways from the evaluation results above?"
   ]
  },
  {
   "cell_type": "markdown",
   "metadata": {},
   "source": [
    "The mse of lm2 was better probably because it has more variables."
   ]
  },
  {
   "cell_type": "markdown",
   "metadata": {},
   "source": [
    "2. Fit, predict, and evaluate one more model, lm3, using exam 3 only."
   ]
  },
  {
   "cell_type": "code",
   "execution_count": null,
   "metadata": {},
   "outputs": [],
   "source": []
  },
  {
   "cell_type": "markdown",
   "metadata": {},
   "source": [
    "3. How does the result of the model compare to the other two? Which should you use, based on these results?"
   ]
  },
  {
   "cell_type": "code",
   "execution_count": null,
   "metadata": {},
   "outputs": [],
   "source": []
  },
  {
   "cell_type": "markdown",
   "metadata": {},
   "source": [
    "# 12. Scikit-Learn: Out-of-sample predictions using best model\n",
    "\n",
    "### Predict final grades using testing data"
   ]
  },
  {
   "cell_type": "code",
   "execution_count": 32,
   "metadata": {},
   "outputs": [],
   "source": [
    "# Make predictions using the testing set\n",
    "y_pred_lm2 = lm2.predict(X_test[['exam1', 'exam3']])"
   ]
  },
  {
   "cell_type": "markdown",
   "metadata": {},
   "source": [
    "### Evaluate performance"
   ]
  },
  {
   "cell_type": "code",
   "execution_count": 33,
   "metadata": {},
   "outputs": [
    {
     "name": "stdout",
     "output_type": "stream",
     "text": [
      "Mean squared error: 3.42\n"
     ]
    }
   ],
   "source": [
    "mse = mean_squared_error(y_test, y_pred_lm2)\n",
    "\n",
    "print(\"Mean squared error: %.2f\" % mse)"
   ]
  },
  {
   "cell_type": "code",
   "execution_count": 34,
   "metadata": {},
   "outputs": [
    {
     "name": "stdout",
     "output_type": "stream",
     "text": [
      "97.20% of the variance in the students final grade can be explained by the grades on the first 3 exams.\n"
     ]
    }
   ],
   "source": [
    "r2 = r2_score(y_test, y_pred_lm2)\n",
    "\n",
    "print('{:.2%} of the variance in the student''s final grade can be explained by the grades on the first 3 exams.'\n",
    "      .format(r2))"
   ]
  },
  {
   "cell_type": "markdown",
   "metadata": {},
   "source": [
    "### Plot Residuals"
   ]
  },
  {
   "cell_type": "code",
   "execution_count": 35,
   "metadata": {},
   "outputs": [
    {
     "data": {
      "text/plain": [
       "Text(0, 0.5, 'Residuals')"
      ]
     },
     "execution_count": 35,
     "metadata": {},
     "output_type": "execute_result"
    },
    {
     "data": {
      "image/png": "[encoded data removed]",
      "text/plain": [
       "<Figure size 432x288 with 1 Axes>"
      ]
     },
     "metadata": {
      "needs_background": "light"
     },
     "output_type": "display_data"
    }
   ],
   "source": [
    "plt.scatter(y_pred_lm2, y_pred_lm2 - y_test, c='g', s=40)\n",
    "plt.hlines(y=0, xmin=50, xmax=100)\n",
    "plt.title(\"Residual plot\")\n",
    "plt.ylabel('Residuals')"
   ]
  },
  {
   "cell_type": "code",
   "execution_count": null,
   "metadata": {},
   "outputs": [],
   "source": []
  }
 ],
 "metadata": {
  "kernelspec": {
   "display_name": "Python 3",
   "language": "python",
   "name": "python3"
  },
  "language_info": {
   "codemirror_mode": {
    "name": "ipython",
    "version": 3
   },
   "file_extension": ".py",
   "mimetype": "text/x-python",
   "name": "python",
   "nbconvert_exporter": "python",
   "pygments_lexer": "ipython3",
   "version": "3.7.1"
  }
 },
 "nbformat": 4,
 "nbformat_minor": 2
}
