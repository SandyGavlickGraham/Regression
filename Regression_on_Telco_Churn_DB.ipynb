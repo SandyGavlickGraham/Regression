{
 "cells": [
  {
   "cell_type": "markdown",
   "metadata": {},
   "source": [
    "# Predict the total charges using the telco_churn database and linear regression."
   ]
  },
  {
   "cell_type": "markdown",
   "metadata": {},
   "source": [
    "# Plan\n",
    "## Summary: Do any features aside from the obvious predict the total charged a customer? \n",
    "\n",
    "'gender', 'senior_citizen', 'partner', 'dependents', 'tenure', 'paperless_billing', 'payment_type_id', 'contract_type_id.1', 'contract_type'\n",
    "\n",
    "Features that obviously add to the total charged, but do any types of service have a high percentage of high total charges, meaning perhaps they should be marketed?\n",
    "'phone_service', 'multiple_lines', 'internet_service_type_id', 'online_security', 'online_backup', 'device_protection', 'tech_support', 'streaming_tv', 'streaming_movies', 'contract_type_id','monthly_charges', 'churn', 'internet_service_type_id.1', 'internet_service_type', 'payment_type_id.1', 'payment_type'\n",
    "\n",
    "Target = total_charges\n",
    "\n",
    "Recommend adding a planning section to the top of your analysis notebook in order to:\n",
    "- Summarize the project goals. What's the problem you're trying to solve and why is it important?\n",
    "- Explain your initial hypothesis or hypotheses that you're going to be testing.\n",
    "- What is your target variable?\n",
    "- Why, specifically, is that your target variable?\n",
    "- Specifically explain which features you are going to be using and which features you're going to be ignoring. Be absolutely certain to explain WHY you are using or dropping certain features. For example, \"I'll be using contract_type because ....\" and \"I'll be ignoring monthly_charges because ...\"\n",
    "- Outline the format of the project:\n",
    "    - First, I'm going to prepare/wrangle the data\n",
    "    - Second, I'll explore the data looking for meaningful relationships between our independent variables and the target variables. In the exploration, I'll explain and support why the analysis uses A, B, and C features and ignores X, Y, Z features...\n",
    "    - Next, I'll develop a baseline predictive model (first draft model)\n",
    "    - Then, I'll develop a few other models to see if they have more effective and believable predictive power than the baseline model.\n",
    "    - Before we provide a final suggestion, I'll perform additional feature engineering to see if any derived columns or combinations are more useful than the original features.\n",
    "    - Finally, I'll provide a suggestion on which model to use, why, and what stakeholders should take away from this analysis. What's the bottom line recommendation and why?"
   ]
  },
  {
   "cell_type": "code",
   "execution_count": 1,
   "metadata": {},
   "outputs": [],
   "source": [
    "# Ignore Warnings\n",
    "import warnings\n",
    "warnings.filterwarnings(\"ignore\")\n",
    "\n",
    "# Wrangling\n",
    "import numpy as np\n",
    "import pandas as pd\n",
    "\n",
    "# Exploring\n",
    "import scipy.stats as stats\n",
    "\n",
    "# Visualizing\n",
    "%matplotlib inline\n",
    "import matplotlib.pyplot as plt\n",
    "import seaborn as sns\n",
    "plt.style.use('classic')\n",
    "\n",
    "# Modeling\n",
    "import statsmodels.api as sm\n",
    "\n",
    "from scipy.stats import pearsonr\n",
    "from scipy.stats import iqr\n",
    "\n",
    "from sklearn.model_selection import train_test_split\n",
    "from sklearn.linear_model import LinearRegression\n",
    "from sklearn.metrics import mean_squared_error, r2_score, median_absolute_error\n",
    "from sklearn.feature_selection import f_regression\n",
    "\n",
    "path = './'"
   ]
  },
  {
   "cell_type": "markdown",
   "metadata": {},
   "source": [
    "### Acquire the data."
   ]
  },
  {
   "cell_type": "code",
   "execution_count": 2,
   "metadata": {},
   "outputs": [],
   "source": [
    "full_df = pd.read_csv(path + 'telco_full_data.csv')"
   ]
  },
  {
   "cell_type": "markdown",
   "metadata": {},
   "source": [
    "### Prepare the data."
   ]
  },
  {
   "cell_type": "markdown",
   "metadata": {},
   "source": [
    "Check the datatypes."
   ]
  },
  {
   "cell_type": "code",
   "execution_count": 3,
   "metadata": {},
   "outputs": [
    {
     "name": "stdout",
     "output_type": "stream",
     "text": [
      "<class 'pandas.core.frame.DataFrame'>\n",
      "RangeIndex: 7043 entries, 0 to 7042\n",
      "Data columns (total 27 columns):\n",
      "customer_id                   7043 non-null object\n",
      "gender                        7043 non-null object\n",
      "senior_citizen                7043 non-null int64\n",
      "partner                       7043 non-null object\n",
      "dependents                    7043 non-null object\n",
      "tenure                        7043 non-null int64\n",
      "phone_service                 7043 non-null object\n",
      "multiple_lines                7043 non-null object\n",
      "internet_service_type_id      7043 non-null int64\n",
      "online_security               7043 non-null object\n",
      "online_backup                 7043 non-null object\n",
      "device_protection             7043 non-null object\n",
      "tech_support                  7043 non-null object\n",
      "streaming_tv                  7043 non-null object\n",
      "streaming_movies              7043 non-null object\n",
      "contract_type_id              7043 non-null int64\n",
      "paperless_billing             7043 non-null object\n",
      "payment_type_id               7043 non-null int64\n",
      "monthly_charges               7043 non-null float64\n",
      "total_charges                 7043 non-null object\n",
      "churn                         7043 non-null object\n",
      "contract_type_id.1            7043 non-null int64\n",
      "contract_type                 7043 non-null object\n",
      "internet_service_type_id.1    7043 non-null int64\n",
      "internet_service_type         7043 non-null object\n",
      "payment_type_id.1             7043 non-null int64\n",
      "payment_type                  7043 non-null object\n",
      "dtypes: float64(1), int64(8), object(18)\n",
      "memory usage: 1.5+ MB\n"
     ]
    }
   ],
   "source": [
    "full_df.info()"
   ]
  },
  {
   "cell_type": "markdown",
   "metadata": {},
   "source": [
    "We'll need total_charges to be numeric, but it looks like 11 rows are missing values."
   ]
  },
  {
   "cell_type": "markdown",
   "metadata": {},
   "source": [
    "Check for NaN values."
   ]
  },
  {
   "cell_type": "code",
   "execution_count": 4,
   "metadata": {},
   "outputs": [
    {
     "data": {
      "text/plain": [
       "customer_id                   False\n",
       "gender                        False\n",
       "senior_citizen                False\n",
       "partner                       False\n",
       "dependents                    False\n",
       "tenure                        False\n",
       "phone_service                 False\n",
       "multiple_lines                False\n",
       "internet_service_type_id      False\n",
       "online_security               False\n",
       "online_backup                 False\n",
       "device_protection             False\n",
       "tech_support                  False\n",
       "streaming_tv                  False\n",
       "streaming_movies              False\n",
       "contract_type_id              False\n",
       "paperless_billing             False\n",
       "payment_type_id               False\n",
       "monthly_charges               False\n",
       "total_charges                 False\n",
       "churn                         False\n",
       "contract_type_id.1            False\n",
       "contract_type                 False\n",
       "internet_service_type_id.1    False\n",
       "internet_service_type         False\n",
       "payment_type_id.1             False\n",
       "payment_type                  False\n",
       "dtype: bool"
      ]
     },
     "execution_count": 4,
     "metadata": {},
     "output_type": "execute_result"
    }
   ],
   "source": [
    "full_df.isna().any()"
   ]
  },
  {
   "cell_type": "code",
   "execution_count": 5,
   "metadata": {},
   "outputs": [
    {
     "data": {
      "text/plain": [
       "0"
      ]
     },
     "execution_count": 5,
     "metadata": {},
     "output_type": "execute_result"
    }
   ],
   "source": [
    "full_df.isnull().values.sum()"
   ]
  },
  {
   "cell_type": "markdown",
   "metadata": {},
   "source": [
    "Just as I suspected. 11 NaN values in total_charges. Let's fix that.\n",
    "\n",
    "The errors = 'coerce' parameter causes invalid parsing to be set as NaN."
   ]
  },
  {
   "cell_type": "code",
   "execution_count": 6,
   "metadata": {},
   "outputs": [],
   "source": [
    "full_df['total_charges'] = pd.to_numeric(full_df['total_charges'], errors='coerce')"
   ]
  },
  {
   "cell_type": "markdown",
   "metadata": {},
   "source": [
    "Now fill the missing values with 0s."
   ]
  },
  {
   "cell_type": "code",
   "execution_count": 7,
   "metadata": {},
   "outputs": [],
   "source": [
    "full_df['total_charges'] = full_df.total_charges.replace(np.NaN, 0)"
   ]
  },
  {
   "cell_type": "markdown",
   "metadata": {},
   "source": [
    "Check for nulls and NaNs again..."
   ]
  },
  {
   "cell_type": "code",
   "execution_count": 8,
   "metadata": {},
   "outputs": [
    {
     "data": {
      "text/plain": [
       "customer_id                   False\n",
       "gender                        False\n",
       "senior_citizen                False\n",
       "partner                       False\n",
       "dependents                    False\n",
       "tenure                        False\n",
       "phone_service                 False\n",
       "multiple_lines                False\n",
       "internet_service_type_id      False\n",
       "online_security               False\n",
       "online_backup                 False\n",
       "device_protection             False\n",
       "tech_support                  False\n",
       "streaming_tv                  False\n",
       "streaming_movies              False\n",
       "contract_type_id              False\n",
       "paperless_billing             False\n",
       "payment_type_id               False\n",
       "monthly_charges               False\n",
       "total_charges                 False\n",
       "churn                         False\n",
       "contract_type_id.1            False\n",
       "contract_type                 False\n",
       "internet_service_type_id.1    False\n",
       "internet_service_type         False\n",
       "payment_type_id.1             False\n",
       "payment_type                  False\n",
       "dtype: bool"
      ]
     },
     "execution_count": 8,
     "metadata": {},
     "output_type": "execute_result"
    }
   ],
   "source": [
    "full_df.isna().any()"
   ]
  },
  {
   "cell_type": "code",
   "execution_count": 9,
   "metadata": {},
   "outputs": [
    {
     "data": {
      "text/plain": [
       "0"
      ]
     },
     "execution_count": 9,
     "metadata": {},
     "output_type": "execute_result"
    }
   ],
   "source": [
    "full_df.isnull().values.sum()"
   ]
  },
  {
   "cell_type": "markdown",
   "metadata": {},
   "source": [
    "That looks good now. Print a sample of the data."
   ]
  },
  {
   "cell_type": "code",
   "execution_count": 10,
   "metadata": {},
   "outputs": [
    {
     "data": {
      "text/html": [
       "<div>\n",
       "<style scoped>\n",
       "    .dataframe tbody tr th:only-of-type {\n",
       "        vertical-align: middle;\n",
       "    }\n",
       "\n",
       "    .dataframe tbody tr th {\n",
       "        vertical-align: top;\n",
       "    }\n",
       "\n",
       "    .dataframe thead th {\n",
       "        text-align: right;\n",
       "    }\n",
       "</style>\n",
       "<table border=\"1\" class=\"dataframe\">\n",
       "  <thead>\n",
       "    <tr style=\"text-align: right;\">\n",
       "      <th></th>\n",
       "      <th>customer_id</th>\n",
       "      <th>gender</th>\n",
       "      <th>senior_citizen</th>\n",
       "      <th>partner</th>\n",
       "      <th>dependents</th>\n",
       "      <th>tenure</th>\n",
       "      <th>phone_service</th>\n",
       "      <th>multiple_lines</th>\n",
       "      <th>internet_service_type_id</th>\n",
       "      <th>online_security</th>\n",
       "      <th>...</th>\n",
       "      <th>payment_type_id</th>\n",
       "      <th>monthly_charges</th>\n",
       "      <th>total_charges</th>\n",
       "      <th>churn</th>\n",
       "      <th>contract_type_id.1</th>\n",
       "      <th>contract_type</th>\n",
       "      <th>internet_service_type_id.1</th>\n",
       "      <th>internet_service_type</th>\n",
       "      <th>payment_type_id.1</th>\n",
       "      <th>payment_type</th>\n",
       "    </tr>\n",
       "  </thead>\n",
       "  <tbody>\n",
       "    <tr>\n",
       "      <th>0</th>\n",
       "      <td>0003-MKNFE</td>\n",
       "      <td>Male</td>\n",
       "      <td>0</td>\n",
       "      <td>No</td>\n",
       "      <td>No</td>\n",
       "      <td>9</td>\n",
       "      <td>Yes</td>\n",
       "      <td>Yes</td>\n",
       "      <td>1</td>\n",
       "      <td>No</td>\n",
       "      <td>...</td>\n",
       "      <td>2</td>\n",
       "      <td>59.90</td>\n",
       "      <td>542.40</td>\n",
       "      <td>No</td>\n",
       "      <td>1</td>\n",
       "      <td>Month-to-month</td>\n",
       "      <td>1</td>\n",
       "      <td>DSL</td>\n",
       "      <td>2</td>\n",
       "      <td>Mailed check</td>\n",
       "    </tr>\n",
       "    <tr>\n",
       "      <th>1</th>\n",
       "      <td>0013-MHZWF</td>\n",
       "      <td>Female</td>\n",
       "      <td>0</td>\n",
       "      <td>No</td>\n",
       "      <td>Yes</td>\n",
       "      <td>9</td>\n",
       "      <td>Yes</td>\n",
       "      <td>No</td>\n",
       "      <td>1</td>\n",
       "      <td>No</td>\n",
       "      <td>...</td>\n",
       "      <td>4</td>\n",
       "      <td>69.40</td>\n",
       "      <td>571.45</td>\n",
       "      <td>No</td>\n",
       "      <td>1</td>\n",
       "      <td>Month-to-month</td>\n",
       "      <td>1</td>\n",
       "      <td>DSL</td>\n",
       "      <td>4</td>\n",
       "      <td>Credit card (automatic)</td>\n",
       "    </tr>\n",
       "    <tr>\n",
       "      <th>2</th>\n",
       "      <td>0015-UOCOJ</td>\n",
       "      <td>Female</td>\n",
       "      <td>1</td>\n",
       "      <td>No</td>\n",
       "      <td>No</td>\n",
       "      <td>7</td>\n",
       "      <td>Yes</td>\n",
       "      <td>No</td>\n",
       "      <td>1</td>\n",
       "      <td>Yes</td>\n",
       "      <td>...</td>\n",
       "      <td>1</td>\n",
       "      <td>48.20</td>\n",
       "      <td>340.35</td>\n",
       "      <td>No</td>\n",
       "      <td>1</td>\n",
       "      <td>Month-to-month</td>\n",
       "      <td>1</td>\n",
       "      <td>DSL</td>\n",
       "      <td>1</td>\n",
       "      <td>Electronic check</td>\n",
       "    </tr>\n",
       "    <tr>\n",
       "      <th>7040</th>\n",
       "      <td>9964-WBQDJ</td>\n",
       "      <td>Female</td>\n",
       "      <td>0</td>\n",
       "      <td>Yes</td>\n",
       "      <td>No</td>\n",
       "      <td>71</td>\n",
       "      <td>Yes</td>\n",
       "      <td>Yes</td>\n",
       "      <td>3</td>\n",
       "      <td>No internet service</td>\n",
       "      <td>...</td>\n",
       "      <td>4</td>\n",
       "      <td>24.40</td>\n",
       "      <td>1725.40</td>\n",
       "      <td>No</td>\n",
       "      <td>3</td>\n",
       "      <td>Two year</td>\n",
       "      <td>3</td>\n",
       "      <td>None</td>\n",
       "      <td>4</td>\n",
       "      <td>Credit card (automatic)</td>\n",
       "    </tr>\n",
       "    <tr>\n",
       "      <th>7041</th>\n",
       "      <td>9972-EWRJS</td>\n",
       "      <td>Female</td>\n",
       "      <td>0</td>\n",
       "      <td>Yes</td>\n",
       "      <td>Yes</td>\n",
       "      <td>67</td>\n",
       "      <td>Yes</td>\n",
       "      <td>No</td>\n",
       "      <td>3</td>\n",
       "      <td>No internet service</td>\n",
       "      <td>...</td>\n",
       "      <td>3</td>\n",
       "      <td>19.25</td>\n",
       "      <td>1372.90</td>\n",
       "      <td>No</td>\n",
       "      <td>3</td>\n",
       "      <td>Two year</td>\n",
       "      <td>3</td>\n",
       "      <td>None</td>\n",
       "      <td>3</td>\n",
       "      <td>Bank transfer (automatic)</td>\n",
       "    </tr>\n",
       "    <tr>\n",
       "      <th>7042</th>\n",
       "      <td>9975-GPKZU</td>\n",
       "      <td>Male</td>\n",
       "      <td>0</td>\n",
       "      <td>Yes</td>\n",
       "      <td>Yes</td>\n",
       "      <td>46</td>\n",
       "      <td>Yes</td>\n",
       "      <td>No</td>\n",
       "      <td>3</td>\n",
       "      <td>No internet service</td>\n",
       "      <td>...</td>\n",
       "      <td>4</td>\n",
       "      <td>19.75</td>\n",
       "      <td>856.50</td>\n",
       "      <td>No</td>\n",
       "      <td>3</td>\n",
       "      <td>Two year</td>\n",
       "      <td>3</td>\n",
       "      <td>None</td>\n",
       "      <td>4</td>\n",
       "      <td>Credit card (automatic)</td>\n",
       "    </tr>\n",
       "  </tbody>\n",
       "</table>\n",
       "<p>6 rows × 27 columns</p>\n",
       "</div>"
      ],
      "text/plain": [
       "     customer_id  gender  senior_citizen partner dependents  tenure  \\\n",
       "0     0003-MKNFE    Male               0      No         No       9   \n",
       "1     0013-MHZWF  Female               0      No        Yes       9   \n",
       "2     0015-UOCOJ  Female               1      No         No       7   \n",
       "7040  9964-WBQDJ  Female               0     Yes         No      71   \n",
       "7041  9972-EWRJS  Female               0     Yes        Yes      67   \n",
       "7042  9975-GPKZU    Male               0     Yes        Yes      46   \n",
       "\n",
       "     phone_service multiple_lines  internet_service_type_id  \\\n",
       "0              Yes            Yes                         1   \n",
       "1              Yes             No                         1   \n",
       "2              Yes             No                         1   \n",
       "7040           Yes            Yes                         3   \n",
       "7041           Yes             No                         3   \n",
       "7042           Yes             No                         3   \n",
       "\n",
       "          online_security  ... payment_type_id monthly_charges total_charges  \\\n",
       "0                      No  ...               2           59.90        542.40   \n",
       "1                      No  ...               4           69.40        571.45   \n",
       "2                     Yes  ...               1           48.20        340.35   \n",
       "7040  No internet service  ...               4           24.40       1725.40   \n",
       "7041  No internet service  ...               3           19.25       1372.90   \n",
       "7042  No internet service  ...               4           19.75        856.50   \n",
       "\n",
       "     churn contract_type_id.1   contract_type internet_service_type_id.1  \\\n",
       "0       No                  1  Month-to-month                          1   \n",
       "1       No                  1  Month-to-month                          1   \n",
       "2       No                  1  Month-to-month                          1   \n",
       "7040    No                  3        Two year                          3   \n",
       "7041    No                  3        Two year                          3   \n",
       "7042    No                  3        Two year                          3   \n",
       "\n",
       "      internet_service_type  payment_type_id.1               payment_type  \n",
       "0                       DSL                  2               Mailed check  \n",
       "1                       DSL                  4    Credit card (automatic)  \n",
       "2                       DSL                  1           Electronic check  \n",
       "7040                   None                  4    Credit card (automatic)  \n",
       "7041                   None                  3  Bank transfer (automatic)  \n",
       "7042                   None                  4    Credit card (automatic)  \n",
       "\n",
       "[6 rows x 27 columns]"
      ]
     },
     "execution_count": 10,
     "metadata": {},
     "output_type": "execute_result"
    }
   ],
   "source": [
    "full_df.head(3).append(full_df.tail(3))"
   ]
  },
  {
   "cell_type": "code",
   "execution_count": 11,
   "metadata": {},
   "outputs": [
    {
     "data": {
      "text/html": [
       "<div>\n",
       "<style scoped>\n",
       "    .dataframe tbody tr th:only-of-type {\n",
       "        vertical-align: middle;\n",
       "    }\n",
       "\n",
       "    .dataframe tbody tr th {\n",
       "        vertical-align: top;\n",
       "    }\n",
       "\n",
       "    .dataframe thead th {\n",
       "        text-align: right;\n",
       "    }\n",
       "</style>\n",
       "<table border=\"1\" class=\"dataframe\">\n",
       "  <thead>\n",
       "    <tr style=\"text-align: right;\">\n",
       "      <th></th>\n",
       "      <th>0</th>\n",
       "      <th>1</th>\n",
       "      <th>2</th>\n",
       "      <th>3</th>\n",
       "      <th>4</th>\n",
       "      <th>5</th>\n",
       "      <th>6</th>\n",
       "      <th>7</th>\n",
       "      <th>8</th>\n",
       "      <th>9</th>\n",
       "      <th>...</th>\n",
       "      <th>7033</th>\n",
       "      <th>7034</th>\n",
       "      <th>7035</th>\n",
       "      <th>7036</th>\n",
       "      <th>7037</th>\n",
       "      <th>7038</th>\n",
       "      <th>7039</th>\n",
       "      <th>7040</th>\n",
       "      <th>7041</th>\n",
       "      <th>7042</th>\n",
       "    </tr>\n",
       "  </thead>\n",
       "  <tbody>\n",
       "    <tr>\n",
       "      <th>customer_id</th>\n",
       "      <td>0003-MKNFE</td>\n",
       "      <td>0013-MHZWF</td>\n",
       "      <td>0015-UOCOJ</td>\n",
       "      <td>0023-HGHWL</td>\n",
       "      <td>0032-PGELS</td>\n",
       "      <td>0067-DKWBL</td>\n",
       "      <td>0076-LVEPS</td>\n",
       "      <td>0082-LDZUE</td>\n",
       "      <td>0096-BXERS</td>\n",
       "      <td>0096-FCPUF</td>\n",
       "      <td>...</td>\n",
       "      <td>9814-AOUDH</td>\n",
       "      <td>9838-BFCQT</td>\n",
       "      <td>9916-AYHTC</td>\n",
       "      <td>9938-PRCVK</td>\n",
       "      <td>9945-PSVIP</td>\n",
       "      <td>9950-MTGYX</td>\n",
       "      <td>9953-ZMKSM</td>\n",
       "      <td>9964-WBQDJ</td>\n",
       "      <td>9972-EWRJS</td>\n",
       "      <td>9975-GPKZU</td>\n",
       "    </tr>\n",
       "    <tr>\n",
       "      <th>gender</th>\n",
       "      <td>Male</td>\n",
       "      <td>Female</td>\n",
       "      <td>Female</td>\n",
       "      <td>Male</td>\n",
       "      <td>Female</td>\n",
       "      <td>Male</td>\n",
       "      <td>Male</td>\n",
       "      <td>Male</td>\n",
       "      <td>Female</td>\n",
       "      <td>Male</td>\n",
       "      <td>...</td>\n",
       "      <td>Male</td>\n",
       "      <td>Male</td>\n",
       "      <td>Male</td>\n",
       "      <td>Female</td>\n",
       "      <td>Female</td>\n",
       "      <td>Male</td>\n",
       "      <td>Male</td>\n",
       "      <td>Female</td>\n",
       "      <td>Female</td>\n",
       "      <td>Male</td>\n",
       "    </tr>\n",
       "    <tr>\n",
       "      <th>senior_citizen</th>\n",
       "      <td>0</td>\n",
       "      <td>0</td>\n",
       "      <td>1</td>\n",
       "      <td>1</td>\n",
       "      <td>0</td>\n",
       "      <td>1</td>\n",
       "      <td>0</td>\n",
       "      <td>0</td>\n",
       "      <td>0</td>\n",
       "      <td>0</td>\n",
       "      <td>...</td>\n",
       "      <td>0</td>\n",
       "      <td>0</td>\n",
       "      <td>0</td>\n",
       "      <td>0</td>\n",
       "      <td>0</td>\n",
       "      <td>0</td>\n",
       "      <td>0</td>\n",
       "      <td>0</td>\n",
       "      <td>0</td>\n",
       "      <td>0</td>\n",
       "    </tr>\n",
       "    <tr>\n",
       "      <th>partner</th>\n",
       "      <td>No</td>\n",
       "      <td>No</td>\n",
       "      <td>No</td>\n",
       "      <td>No</td>\n",
       "      <td>Yes</td>\n",
       "      <td>No</td>\n",
       "      <td>No</td>\n",
       "      <td>No</td>\n",
       "      <td>Yes</td>\n",
       "      <td>No</td>\n",
       "      <td>...</td>\n",
       "      <td>No</td>\n",
       "      <td>Yes</td>\n",
       "      <td>No</td>\n",
       "      <td>Yes</td>\n",
       "      <td>Yes</td>\n",
       "      <td>Yes</td>\n",
       "      <td>No</td>\n",
       "      <td>Yes</td>\n",
       "      <td>Yes</td>\n",
       "      <td>Yes</td>\n",
       "    </tr>\n",
       "    <tr>\n",
       "      <th>dependents</th>\n",
       "      <td>No</td>\n",
       "      <td>Yes</td>\n",
       "      <td>No</td>\n",
       "      <td>No</td>\n",
       "      <td>Yes</td>\n",
       "      <td>No</td>\n",
       "      <td>Yes</td>\n",
       "      <td>No</td>\n",
       "      <td>No</td>\n",
       "      <td>No</td>\n",
       "      <td>...</td>\n",
       "      <td>No</td>\n",
       "      <td>Yes</td>\n",
       "      <td>No</td>\n",
       "      <td>Yes</td>\n",
       "      <td>Yes</td>\n",
       "      <td>Yes</td>\n",
       "      <td>No</td>\n",
       "      <td>No</td>\n",
       "      <td>Yes</td>\n",
       "      <td>Yes</td>\n",
       "    </tr>\n",
       "    <tr>\n",
       "      <th>tenure</th>\n",
       "      <td>9</td>\n",
       "      <td>9</td>\n",
       "      <td>7</td>\n",
       "      <td>1</td>\n",
       "      <td>1</td>\n",
       "      <td>2</td>\n",
       "      <td>29</td>\n",
       "      <td>1</td>\n",
       "      <td>6</td>\n",
       "      <td>30</td>\n",
       "      <td>...</td>\n",
       "      <td>53</td>\n",
       "      <td>72</td>\n",
       "      <td>48</td>\n",
       "      <td>41</td>\n",
       "      <td>25</td>\n",
       "      <td>28</td>\n",
       "      <td>63</td>\n",
       "      <td>71</td>\n",
       "      <td>67</td>\n",
       "      <td>46</td>\n",
       "    </tr>\n",
       "    <tr>\n",
       "      <th>phone_service</th>\n",
       "      <td>Yes</td>\n",
       "      <td>Yes</td>\n",
       "      <td>Yes</td>\n",
       "      <td>No</td>\n",
       "      <td>No</td>\n",
       "      <td>Yes</td>\n",
       "      <td>No</td>\n",
       "      <td>Yes</td>\n",
       "      <td>Yes</td>\n",
       "      <td>Yes</td>\n",
       "      <td>...</td>\n",
       "      <td>Yes</td>\n",
       "      <td>Yes</td>\n",
       "      <td>Yes</td>\n",
       "      <td>Yes</td>\n",
       "      <td>Yes</td>\n",
       "      <td>Yes</td>\n",
       "      <td>Yes</td>\n",
       "      <td>Yes</td>\n",
       "      <td>Yes</td>\n",
       "      <td>Yes</td>\n",
       "    </tr>\n",
       "    <tr>\n",
       "      <th>multiple_lines</th>\n",
       "      <td>Yes</td>\n",
       "      <td>No</td>\n",
       "      <td>No</td>\n",
       "      <td>No phone service</td>\n",
       "      <td>No phone service</td>\n",
       "      <td>No</td>\n",
       "      <td>No phone service</td>\n",
       "      <td>No</td>\n",
       "      <td>Yes</td>\n",
       "      <td>Yes</td>\n",
       "      <td>...</td>\n",
       "      <td>No</td>\n",
       "      <td>Yes</td>\n",
       "      <td>No</td>\n",
       "      <td>No</td>\n",
       "      <td>No</td>\n",
       "      <td>No</td>\n",
       "      <td>Yes</td>\n",
       "      <td>Yes</td>\n",
       "      <td>No</td>\n",
       "      <td>No</td>\n",
       "    </tr>\n",
       "    <tr>\n",
       "      <th>internet_service_type_id</th>\n",
       "      <td>1</td>\n",
       "      <td>1</td>\n",
       "      <td>1</td>\n",
       "      <td>1</td>\n",
       "      <td>1</td>\n",
       "      <td>1</td>\n",
       "      <td>1</td>\n",
       "      <td>1</td>\n",
       "      <td>1</td>\n",
       "      <td>1</td>\n",
       "      <td>...</td>\n",
       "      <td>3</td>\n",
       "      <td>3</td>\n",
       "      <td>3</td>\n",
       "      <td>3</td>\n",
       "      <td>3</td>\n",
       "      <td>3</td>\n",
       "      <td>3</td>\n",
       "      <td>3</td>\n",
       "      <td>3</td>\n",
       "      <td>3</td>\n",
       "    </tr>\n",
       "    <tr>\n",
       "      <th>online_security</th>\n",
       "      <td>No</td>\n",
       "      <td>No</td>\n",
       "      <td>Yes</td>\n",
       "      <td>No</td>\n",
       "      <td>Yes</td>\n",
       "      <td>Yes</td>\n",
       "      <td>Yes</td>\n",
       "      <td>No</td>\n",
       "      <td>No</td>\n",
       "      <td>Yes</td>\n",
       "      <td>...</td>\n",
       "      <td>No internet service</td>\n",
       "      <td>No internet service</td>\n",
       "      <td>No internet service</td>\n",
       "      <td>No internet service</td>\n",
       "      <td>No internet service</td>\n",
       "      <td>No internet service</td>\n",
       "      <td>No internet service</td>\n",
       "      <td>No internet service</td>\n",
       "      <td>No internet service</td>\n",
       "      <td>No internet service</td>\n",
       "    </tr>\n",
       "    <tr>\n",
       "      <th>online_backup</th>\n",
       "      <td>No</td>\n",
       "      <td>No</td>\n",
       "      <td>No</td>\n",
       "      <td>No</td>\n",
       "      <td>No</td>\n",
       "      <td>No</td>\n",
       "      <td>Yes</td>\n",
       "      <td>No</td>\n",
       "      <td>No</td>\n",
       "      <td>No</td>\n",
       "      <td>...</td>\n",
       "      <td>No internet service</td>\n",
       "      <td>No internet service</td>\n",
       "      <td>No internet service</td>\n",
       "      <td>No internet service</td>\n",
       "      <td>No internet service</td>\n",
       "      <td>No internet service</td>\n",
       "      <td>No internet service</td>\n",
       "      <td>No internet service</td>\n",
       "      <td>No internet service</td>\n",
       "      <td>No internet service</td>\n",
       "    </tr>\n",
       "    <tr>\n",
       "      <th>device_protection</th>\n",
       "      <td>No</td>\n",
       "      <td>No</td>\n",
       "      <td>No</td>\n",
       "      <td>No</td>\n",
       "      <td>No</td>\n",
       "      <td>No</td>\n",
       "      <td>Yes</td>\n",
       "      <td>No</td>\n",
       "      <td>No</td>\n",
       "      <td>No</td>\n",
       "      <td>...</td>\n",
       "      <td>No internet service</td>\n",
       "      <td>No internet service</td>\n",
       "      <td>No internet service</td>\n",
       "      <td>No internet service</td>\n",
       "      <td>No internet service</td>\n",
       "      <td>No internet service</td>\n",
       "      <td>No internet service</td>\n",
       "      <td>No internet service</td>\n",
       "      <td>No internet service</td>\n",
       "      <td>No internet service</td>\n",
       "    </tr>\n",
       "    <tr>\n",
       "      <th>tech_support</th>\n",
       "      <td>No</td>\n",
       "      <td>Yes</td>\n",
       "      <td>No</td>\n",
       "      <td>No</td>\n",
       "      <td>No</td>\n",
       "      <td>No</td>\n",
       "      <td>Yes</td>\n",
       "      <td>No</td>\n",
       "      <td>No</td>\n",
       "      <td>No</td>\n",
       "      <td>...</td>\n",
       "      <td>No internet service</td>\n",
       "      <td>No internet service</td>\n",
       "      <td>No internet service</td>\n",
       "      <td>No internet service</td>\n",
       "      <td>No internet service</td>\n",
       "      <td>No internet service</td>\n",
       "      <td>No internet service</td>\n",
       "      <td>No internet service</td>\n",
       "      <td>No internet service</td>\n",
       "      <td>No internet service</td>\n",
       "    </tr>\n",
       "    <tr>\n",
       "      <th>streaming_tv</th>\n",
       "      <td>No</td>\n",
       "      <td>Yes</td>\n",
       "      <td>No</td>\n",
       "      <td>No</td>\n",
       "      <td>No</td>\n",
       "      <td>No</td>\n",
       "      <td>No</td>\n",
       "      <td>No</td>\n",
       "      <td>No</td>\n",
       "      <td>No</td>\n",
       "      <td>...</td>\n",
       "      <td>No internet service</td>\n",
       "      <td>No internet service</td>\n",
       "      <td>No internet service</td>\n",
       "      <td>No internet service</td>\n",
       "      <td>No internet service</td>\n",
       "      <td>No internet service</td>\n",
       "      <td>No internet service</td>\n",
       "      <td>No internet service</td>\n",
       "      <td>No internet service</td>\n",
       "      <td>No internet service</td>\n",
       "    </tr>\n",
       "    <tr>\n",
       "      <th>streaming_movies</th>\n",
       "      <td>Yes</td>\n",
       "      <td>Yes</td>\n",
       "      <td>No</td>\n",
       "      <td>No</td>\n",
       "      <td>No</td>\n",
       "      <td>No</td>\n",
       "      <td>No</td>\n",
       "      <td>No</td>\n",
       "      <td>No</td>\n",
       "      <td>Yes</td>\n",
       "      <td>...</td>\n",
       "      <td>No internet service</td>\n",
       "      <td>No internet service</td>\n",
       "      <td>No internet service</td>\n",
       "      <td>No internet service</td>\n",
       "      <td>No internet service</td>\n",
       "      <td>No internet service</td>\n",
       "      <td>No internet service</td>\n",
       "      <td>No internet service</td>\n",
       "      <td>No internet service</td>\n",
       "      <td>No internet service</td>\n",
       "    </tr>\n",
       "    <tr>\n",
       "      <th>contract_type_id</th>\n",
       "      <td>1</td>\n",
       "      <td>1</td>\n",
       "      <td>1</td>\n",
       "      <td>1</td>\n",
       "      <td>1</td>\n",
       "      <td>1</td>\n",
       "      <td>1</td>\n",
       "      <td>1</td>\n",
       "      <td>1</td>\n",
       "      <td>1</td>\n",
       "      <td>...</td>\n",
       "      <td>3</td>\n",
       "      <td>3</td>\n",
       "      <td>3</td>\n",
       "      <td>3</td>\n",
       "      <td>3</td>\n",
       "      <td>3</td>\n",
       "      <td>3</td>\n",
       "      <td>3</td>\n",
       "      <td>3</td>\n",
       "      <td>3</td>\n",
       "    </tr>\n",
       "    <tr>\n",
       "      <th>paperless_billing</th>\n",
       "      <td>No</td>\n",
       "      <td>Yes</td>\n",
       "      <td>Yes</td>\n",
       "      <td>Yes</td>\n",
       "      <td>No</td>\n",
       "      <td>Yes</td>\n",
       "      <td>Yes</td>\n",
       "      <td>Yes</td>\n",
       "      <td>No</td>\n",
       "      <td>Yes</td>\n",
       "      <td>...</td>\n",
       "      <td>No</td>\n",
       "      <td>No</td>\n",
       "      <td>No</td>\n",
       "      <td>No</td>\n",
       "      <td>Yes</td>\n",
       "      <td>Yes</td>\n",
       "      <td>No</td>\n",
       "      <td>Yes</td>\n",
       "      <td>Yes</td>\n",
       "      <td>No</td>\n",
       "    </tr>\n",
       "    <tr>\n",
       "      <th>payment_type_id</th>\n",
       "      <td>2</td>\n",
       "      <td>4</td>\n",
       "      <td>1</td>\n",
       "      <td>1</td>\n",
       "      <td>3</td>\n",
       "      <td>1</td>\n",
       "      <td>2</td>\n",
       "      <td>2</td>\n",
       "      <td>1</td>\n",
       "      <td>2</td>\n",
       "      <td>...</td>\n",
       "      <td>4</td>\n",
       "      <td>2</td>\n",
       "      <td>4</td>\n",
       "      <td>3</td>\n",
       "      <td>2</td>\n",
       "      <td>4</td>\n",
       "      <td>2</td>\n",
       "      <td>4</td>\n",
       "      <td>3</td>\n",
       "      <td>4</td>\n",
       "    </tr>\n",
       "    <tr>\n",
       "      <th>monthly_charges</th>\n",
       "      <td>59.9</td>\n",
       "      <td>69.4</td>\n",
       "      <td>48.2</td>\n",
       "      <td>25.1</td>\n",
       "      <td>30.5</td>\n",
       "      <td>49.25</td>\n",
       "      <td>45</td>\n",
       "      <td>44.3</td>\n",
       "      <td>50.35</td>\n",
       "      <td>64.5</td>\n",
       "      <td>...</td>\n",
       "      <td>19.5</td>\n",
       "      <td>26.1</td>\n",
       "      <td>19.85</td>\n",
       "      <td>19.7</td>\n",
       "      <td>18.7</td>\n",
       "      <td>20.3</td>\n",
       "      <td>25.25</td>\n",
       "      <td>24.4</td>\n",
       "      <td>19.25</td>\n",
       "      <td>19.75</td>\n",
       "    </tr>\n",
       "    <tr>\n",
       "      <th>total_charges</th>\n",
       "      <td>542.4</td>\n",
       "      <td>571.45</td>\n",
       "      <td>340.35</td>\n",
       "      <td>25.1</td>\n",
       "      <td>30.5</td>\n",
       "      <td>91.1</td>\n",
       "      <td>1242.45</td>\n",
       "      <td>44.3</td>\n",
       "      <td>314.55</td>\n",
       "      <td>1888.45</td>\n",
       "      <td>...</td>\n",
       "      <td>1050.5</td>\n",
       "      <td>1851.45</td>\n",
       "      <td>916</td>\n",
       "      <td>804.25</td>\n",
       "      <td>383.65</td>\n",
       "      <td>487.95</td>\n",
       "      <td>1559.3</td>\n",
       "      <td>1725.4</td>\n",
       "      <td>1372.9</td>\n",
       "      <td>856.5</td>\n",
       "    </tr>\n",
       "    <tr>\n",
       "      <th>churn</th>\n",
       "      <td>No</td>\n",
       "      <td>No</td>\n",
       "      <td>No</td>\n",
       "      <td>Yes</td>\n",
       "      <td>Yes</td>\n",
       "      <td>Yes</td>\n",
       "      <td>No</td>\n",
       "      <td>No</td>\n",
       "      <td>No</td>\n",
       "      <td>No</td>\n",
       "      <td>...</td>\n",
       "      <td>No</td>\n",
       "      <td>No</td>\n",
       "      <td>No</td>\n",
       "      <td>No</td>\n",
       "      <td>No</td>\n",
       "      <td>No</td>\n",
       "      <td>No</td>\n",
       "      <td>No</td>\n",
       "      <td>No</td>\n",
       "      <td>No</td>\n",
       "    </tr>\n",
       "    <tr>\n",
       "      <th>contract_type_id.1</th>\n",
       "      <td>1</td>\n",
       "      <td>1</td>\n",
       "      <td>1</td>\n",
       "      <td>1</td>\n",
       "      <td>1</td>\n",
       "      <td>1</td>\n",
       "      <td>1</td>\n",
       "      <td>1</td>\n",
       "      <td>1</td>\n",
       "      <td>1</td>\n",
       "      <td>...</td>\n",
       "      <td>3</td>\n",
       "      <td>3</td>\n",
       "      <td>3</td>\n",
       "      <td>3</td>\n",
       "      <td>3</td>\n",
       "      <td>3</td>\n",
       "      <td>3</td>\n",
       "      <td>3</td>\n",
       "      <td>3</td>\n",
       "      <td>3</td>\n",
       "    </tr>\n",
       "    <tr>\n",
       "      <th>contract_type</th>\n",
       "      <td>Month-to-month</td>\n",
       "      <td>Month-to-month</td>\n",
       "      <td>Month-to-month</td>\n",
       "      <td>Month-to-month</td>\n",
       "      <td>Month-to-month</td>\n",
       "      <td>Month-to-month</td>\n",
       "      <td>Month-to-month</td>\n",
       "      <td>Month-to-month</td>\n",
       "      <td>Month-to-month</td>\n",
       "      <td>Month-to-month</td>\n",
       "      <td>...</td>\n",
       "      <td>Two year</td>\n",
       "      <td>Two year</td>\n",
       "      <td>Two year</td>\n",
       "      <td>Two year</td>\n",
       "      <td>Two year</td>\n",
       "      <td>Two year</td>\n",
       "      <td>Two year</td>\n",
       "      <td>Two year</td>\n",
       "      <td>Two year</td>\n",
       "      <td>Two year</td>\n",
       "    </tr>\n",
       "    <tr>\n",
       "      <th>internet_service_type_id.1</th>\n",
       "      <td>1</td>\n",
       "      <td>1</td>\n",
       "      <td>1</td>\n",
       "      <td>1</td>\n",
       "      <td>1</td>\n",
       "      <td>1</td>\n",
       "      <td>1</td>\n",
       "      <td>1</td>\n",
       "      <td>1</td>\n",
       "      <td>1</td>\n",
       "      <td>...</td>\n",
       "      <td>3</td>\n",
       "      <td>3</td>\n",
       "      <td>3</td>\n",
       "      <td>3</td>\n",
       "      <td>3</td>\n",
       "      <td>3</td>\n",
       "      <td>3</td>\n",
       "      <td>3</td>\n",
       "      <td>3</td>\n",
       "      <td>3</td>\n",
       "    </tr>\n",
       "    <tr>\n",
       "      <th>internet_service_type</th>\n",
       "      <td>DSL</td>\n",
       "      <td>DSL</td>\n",
       "      <td>DSL</td>\n",
       "      <td>DSL</td>\n",
       "      <td>DSL</td>\n",
       "      <td>DSL</td>\n",
       "      <td>DSL</td>\n",
       "      <td>DSL</td>\n",
       "      <td>DSL</td>\n",
       "      <td>DSL</td>\n",
       "      <td>...</td>\n",
       "      <td>None</td>\n",
       "      <td>None</td>\n",
       "      <td>None</td>\n",
       "      <td>None</td>\n",
       "      <td>None</td>\n",
       "      <td>None</td>\n",
       "      <td>None</td>\n",
       "      <td>None</td>\n",
       "      <td>None</td>\n",
       "      <td>None</td>\n",
       "    </tr>\n",
       "    <tr>\n",
       "      <th>payment_type_id.1</th>\n",
       "      <td>2</td>\n",
       "      <td>4</td>\n",
       "      <td>1</td>\n",
       "      <td>1</td>\n",
       "      <td>3</td>\n",
       "      <td>1</td>\n",
       "      <td>2</td>\n",
       "      <td>2</td>\n",
       "      <td>1</td>\n",
       "      <td>2</td>\n",
       "      <td>...</td>\n",
       "      <td>4</td>\n",
       "      <td>2</td>\n",
       "      <td>4</td>\n",
       "      <td>3</td>\n",
       "      <td>2</td>\n",
       "      <td>4</td>\n",
       "      <td>2</td>\n",
       "      <td>4</td>\n",
       "      <td>3</td>\n",
       "      <td>4</td>\n",
       "    </tr>\n",
       "    <tr>\n",
       "      <th>payment_type</th>\n",
       "      <td>Mailed check</td>\n",
       "      <td>Credit card (automatic)</td>\n",
       "      <td>Electronic check</td>\n",
       "      <td>Electronic check</td>\n",
       "      <td>Bank transfer (automatic)</td>\n",
       "      <td>Electronic check</td>\n",
       "      <td>Mailed check</td>\n",
       "      <td>Mailed check</td>\n",
       "      <td>Electronic check</td>\n",
       "      <td>Mailed check</td>\n",
       "      <td>...</td>\n",
       "      <td>Credit card (automatic)</td>\n",
       "      <td>Mailed check</td>\n",
       "      <td>Credit card (automatic)</td>\n",
       "      <td>Bank transfer (automatic)</td>\n",
       "      <td>Mailed check</td>\n",
       "      <td>Credit card (automatic)</td>\n",
       "      <td>Mailed check</td>\n",
       "      <td>Credit card (automatic)</td>\n",
       "      <td>Bank transfer (automatic)</td>\n",
       "      <td>Credit card (automatic)</td>\n",
       "    </tr>\n",
       "  </tbody>\n",
       "</table>\n",
       "<p>27 rows × 7043 columns</p>\n",
       "</div>"
      ],
      "text/plain": [
       "                                      0                        1     \\\n",
       "customer_id                     0003-MKNFE               0013-MHZWF   \n",
       "gender                                Male                   Female   \n",
       "senior_citizen                           0                        0   \n",
       "partner                                 No                       No   \n",
       "dependents                              No                      Yes   \n",
       "tenure                                   9                        9   \n",
       "phone_service                          Yes                      Yes   \n",
       "multiple_lines                         Yes                       No   \n",
       "internet_service_type_id                 1                        1   \n",
       "online_security                         No                       No   \n",
       "online_backup                           No                       No   \n",
       "device_protection                       No                       No   \n",
       "tech_support                            No                      Yes   \n",
       "streaming_tv                            No                      Yes   \n",
       "streaming_movies                       Yes                      Yes   \n",
       "contract_type_id                         1                        1   \n",
       "paperless_billing                       No                      Yes   \n",
       "payment_type_id                          2                        4   \n",
       "monthly_charges                       59.9                     69.4   \n",
       "total_charges                        542.4                   571.45   \n",
       "churn                                   No                       No   \n",
       "contract_type_id.1                       1                        1   \n",
       "contract_type               Month-to-month           Month-to-month   \n",
       "internet_service_type_id.1               1                        1   \n",
       "internet_service_type                  DSL                      DSL   \n",
       "payment_type_id.1                        2                        4   \n",
       "payment_type                  Mailed check  Credit card (automatic)   \n",
       "\n",
       "                                        2                 3     \\\n",
       "customer_id                       0015-UOCOJ        0023-HGHWL   \n",
       "gender                                Female              Male   \n",
       "senior_citizen                             1                 1   \n",
       "partner                                   No                No   \n",
       "dependents                                No                No   \n",
       "tenure                                     7                 1   \n",
       "phone_service                            Yes                No   \n",
       "multiple_lines                            No  No phone service   \n",
       "internet_service_type_id                   1                 1   \n",
       "online_security                          Yes                No   \n",
       "online_backup                             No                No   \n",
       "device_protection                         No                No   \n",
       "tech_support                              No                No   \n",
       "streaming_tv                              No                No   \n",
       "streaming_movies                          No                No   \n",
       "contract_type_id                           1                 1   \n",
       "paperless_billing                        Yes               Yes   \n",
       "payment_type_id                            1                 1   \n",
       "monthly_charges                         48.2              25.1   \n",
       "total_charges                         340.35              25.1   \n",
       "churn                                     No               Yes   \n",
       "contract_type_id.1                         1                 1   \n",
       "contract_type                 Month-to-month    Month-to-month   \n",
       "internet_service_type_id.1                 1                 1   \n",
       "internet_service_type                    DSL               DSL   \n",
       "payment_type_id.1                          1                 1   \n",
       "payment_type                Electronic check  Electronic check   \n",
       "\n",
       "                                                 4                 5     \\\n",
       "customer_id                                0032-PGELS        0067-DKWBL   \n",
       "gender                                         Female              Male   \n",
       "senior_citizen                                      0                 1   \n",
       "partner                                           Yes                No   \n",
       "dependents                                        Yes                No   \n",
       "tenure                                              1                 2   \n",
       "phone_service                                      No               Yes   \n",
       "multiple_lines                       No phone service                No   \n",
       "internet_service_type_id                            1                 1   \n",
       "online_security                                   Yes               Yes   \n",
       "online_backup                                      No                No   \n",
       "device_protection                                  No                No   \n",
       "tech_support                                       No                No   \n",
       "streaming_tv                                       No                No   \n",
       "streaming_movies                                   No                No   \n",
       "contract_type_id                                    1                 1   \n",
       "paperless_billing                                  No               Yes   \n",
       "payment_type_id                                     3                 1   \n",
       "monthly_charges                                  30.5             49.25   \n",
       "total_charges                                    30.5              91.1   \n",
       "churn                                             Yes               Yes   \n",
       "contract_type_id.1                                  1                 1   \n",
       "contract_type                          Month-to-month    Month-to-month   \n",
       "internet_service_type_id.1                          1                 1   \n",
       "internet_service_type                             DSL               DSL   \n",
       "payment_type_id.1                                   3                 1   \n",
       "payment_type                Bank transfer (automatic)  Electronic check   \n",
       "\n",
       "                                        6               7     \\\n",
       "customer_id                       0076-LVEPS      0082-LDZUE   \n",
       "gender                                  Male            Male   \n",
       "senior_citizen                             0               0   \n",
       "partner                                   No              No   \n",
       "dependents                               Yes              No   \n",
       "tenure                                    29               1   \n",
       "phone_service                             No             Yes   \n",
       "multiple_lines              No phone service              No   \n",
       "internet_service_type_id                   1               1   \n",
       "online_security                          Yes              No   \n",
       "online_backup                            Yes              No   \n",
       "device_protection                        Yes              No   \n",
       "tech_support                             Yes              No   \n",
       "streaming_tv                              No              No   \n",
       "streaming_movies                          No              No   \n",
       "contract_type_id                           1               1   \n",
       "paperless_billing                        Yes             Yes   \n",
       "payment_type_id                            2               2   \n",
       "monthly_charges                           45            44.3   \n",
       "total_charges                        1242.45            44.3   \n",
       "churn                                     No              No   \n",
       "contract_type_id.1                         1               1   \n",
       "contract_type                 Month-to-month  Month-to-month   \n",
       "internet_service_type_id.1                 1               1   \n",
       "internet_service_type                    DSL             DSL   \n",
       "payment_type_id.1                          2               2   \n",
       "payment_type                    Mailed check    Mailed check   \n",
       "\n",
       "                                        8               9     ...  \\\n",
       "customer_id                       0096-BXERS      0096-FCPUF  ...   \n",
       "gender                                Female            Male  ...   \n",
       "senior_citizen                             0               0  ...   \n",
       "partner                                  Yes              No  ...   \n",
       "dependents                                No              No  ...   \n",
       "tenure                                     6              30  ...   \n",
       "phone_service                            Yes             Yes  ...   \n",
       "multiple_lines                           Yes             Yes  ...   \n",
       "internet_service_type_id                   1               1  ...   \n",
       "online_security                           No             Yes  ...   \n",
       "online_backup                             No              No  ...   \n",
       "device_protection                         No              No  ...   \n",
       "tech_support                              No              No  ...   \n",
       "streaming_tv                              No              No  ...   \n",
       "streaming_movies                          No             Yes  ...   \n",
       "contract_type_id                           1               1  ...   \n",
       "paperless_billing                         No             Yes  ...   \n",
       "payment_type_id                            1               2  ...   \n",
       "monthly_charges                        50.35            64.5  ...   \n",
       "total_charges                         314.55         1888.45  ...   \n",
       "churn                                     No              No  ...   \n",
       "contract_type_id.1                         1               1  ...   \n",
       "contract_type                 Month-to-month  Month-to-month  ...   \n",
       "internet_service_type_id.1                 1               1  ...   \n",
       "internet_service_type                    DSL             DSL  ...   \n",
       "payment_type_id.1                          1               2  ...   \n",
       "payment_type                Electronic check    Mailed check  ...   \n",
       "\n",
       "                                               7033                 7034  \\\n",
       "customer_id                              9814-AOUDH           9838-BFCQT   \n",
       "gender                                         Male                 Male   \n",
       "senior_citizen                                    0                    0   \n",
       "partner                                          No                  Yes   \n",
       "dependents                                       No                  Yes   \n",
       "tenure                                           53                   72   \n",
       "phone_service                                   Yes                  Yes   \n",
       "multiple_lines                                   No                  Yes   \n",
       "internet_service_type_id                          3                    3   \n",
       "online_security                 No internet service  No internet service   \n",
       "online_backup                   No internet service  No internet service   \n",
       "device_protection               No internet service  No internet service   \n",
       "tech_support                    No internet service  No internet service   \n",
       "streaming_tv                    No internet service  No internet service   \n",
       "streaming_movies                No internet service  No internet service   \n",
       "contract_type_id                                  3                    3   \n",
       "paperless_billing                                No                   No   \n",
       "payment_type_id                                   4                    2   \n",
       "monthly_charges                                19.5                 26.1   \n",
       "total_charges                                1050.5              1851.45   \n",
       "churn                                            No                   No   \n",
       "contract_type_id.1                                3                    3   \n",
       "contract_type                              Two year             Two year   \n",
       "internet_service_type_id.1                        3                    3   \n",
       "internet_service_type                          None                 None   \n",
       "payment_type_id.1                                 4                    2   \n",
       "payment_type                Credit card (automatic)         Mailed check   \n",
       "\n",
       "                                               7035  \\\n",
       "customer_id                              9916-AYHTC   \n",
       "gender                                         Male   \n",
       "senior_citizen                                    0   \n",
       "partner                                          No   \n",
       "dependents                                       No   \n",
       "tenure                                           48   \n",
       "phone_service                                   Yes   \n",
       "multiple_lines                                   No   \n",
       "internet_service_type_id                          3   \n",
       "online_security                 No internet service   \n",
       "online_backup                   No internet service   \n",
       "device_protection               No internet service   \n",
       "tech_support                    No internet service   \n",
       "streaming_tv                    No internet service   \n",
       "streaming_movies                No internet service   \n",
       "contract_type_id                                  3   \n",
       "paperless_billing                                No   \n",
       "payment_type_id                                   4   \n",
       "monthly_charges                               19.85   \n",
       "total_charges                                   916   \n",
       "churn                                            No   \n",
       "contract_type_id.1                                3   \n",
       "contract_type                              Two year   \n",
       "internet_service_type_id.1                        3   \n",
       "internet_service_type                          None   \n",
       "payment_type_id.1                                 4   \n",
       "payment_type                Credit card (automatic)   \n",
       "\n",
       "                                                 7036                 7037  \\\n",
       "customer_id                                9938-PRCVK           9945-PSVIP   \n",
       "gender                                         Female               Female   \n",
       "senior_citizen                                      0                    0   \n",
       "partner                                           Yes                  Yes   \n",
       "dependents                                        Yes                  Yes   \n",
       "tenure                                             41                   25   \n",
       "phone_service                                     Yes                  Yes   \n",
       "multiple_lines                                     No                   No   \n",
       "internet_service_type_id                            3                    3   \n",
       "online_security                   No internet service  No internet service   \n",
       "online_backup                     No internet service  No internet service   \n",
       "device_protection                 No internet service  No internet service   \n",
       "tech_support                      No internet service  No internet service   \n",
       "streaming_tv                      No internet service  No internet service   \n",
       "streaming_movies                  No internet service  No internet service   \n",
       "contract_type_id                                    3                    3   \n",
       "paperless_billing                                  No                  Yes   \n",
       "payment_type_id                                     3                    2   \n",
       "monthly_charges                                  19.7                 18.7   \n",
       "total_charges                                  804.25               383.65   \n",
       "churn                                              No                   No   \n",
       "contract_type_id.1                                  3                    3   \n",
       "contract_type                                Two year             Two year   \n",
       "internet_service_type_id.1                          3                    3   \n",
       "internet_service_type                            None                 None   \n",
       "payment_type_id.1                                   3                    2   \n",
       "payment_type                Bank transfer (automatic)         Mailed check   \n",
       "\n",
       "                                               7038                 7039  \\\n",
       "customer_id                              9950-MTGYX           9953-ZMKSM   \n",
       "gender                                         Male                 Male   \n",
       "senior_citizen                                    0                    0   \n",
       "partner                                         Yes                   No   \n",
       "dependents                                      Yes                   No   \n",
       "tenure                                           28                   63   \n",
       "phone_service                                   Yes                  Yes   \n",
       "multiple_lines                                   No                  Yes   \n",
       "internet_service_type_id                          3                    3   \n",
       "online_security                 No internet service  No internet service   \n",
       "online_backup                   No internet service  No internet service   \n",
       "device_protection               No internet service  No internet service   \n",
       "tech_support                    No internet service  No internet service   \n",
       "streaming_tv                    No internet service  No internet service   \n",
       "streaming_movies                No internet service  No internet service   \n",
       "contract_type_id                                  3                    3   \n",
       "paperless_billing                               Yes                   No   \n",
       "payment_type_id                                   4                    2   \n",
       "monthly_charges                                20.3                25.25   \n",
       "total_charges                                487.95               1559.3   \n",
       "churn                                            No                   No   \n",
       "contract_type_id.1                                3                    3   \n",
       "contract_type                              Two year             Two year   \n",
       "internet_service_type_id.1                        3                    3   \n",
       "internet_service_type                          None                 None   \n",
       "payment_type_id.1                                 4                    2   \n",
       "payment_type                Credit card (automatic)         Mailed check   \n",
       "\n",
       "                                               7040  \\\n",
       "customer_id                              9964-WBQDJ   \n",
       "gender                                       Female   \n",
       "senior_citizen                                    0   \n",
       "partner                                         Yes   \n",
       "dependents                                       No   \n",
       "tenure                                           71   \n",
       "phone_service                                   Yes   \n",
       "multiple_lines                                  Yes   \n",
       "internet_service_type_id                          3   \n",
       "online_security                 No internet service   \n",
       "online_backup                   No internet service   \n",
       "device_protection               No internet service   \n",
       "tech_support                    No internet service   \n",
       "streaming_tv                    No internet service   \n",
       "streaming_movies                No internet service   \n",
       "contract_type_id                                  3   \n",
       "paperless_billing                               Yes   \n",
       "payment_type_id                                   4   \n",
       "monthly_charges                                24.4   \n",
       "total_charges                                1725.4   \n",
       "churn                                            No   \n",
       "contract_type_id.1                                3   \n",
       "contract_type                              Two year   \n",
       "internet_service_type_id.1                        3   \n",
       "internet_service_type                          None   \n",
       "payment_type_id.1                                 4   \n",
       "payment_type                Credit card (automatic)   \n",
       "\n",
       "                                                 7041                     7042  \n",
       "customer_id                                9972-EWRJS               9975-GPKZU  \n",
       "gender                                         Female                     Male  \n",
       "senior_citizen                                      0                        0  \n",
       "partner                                           Yes                      Yes  \n",
       "dependents                                        Yes                      Yes  \n",
       "tenure                                             67                       46  \n",
       "phone_service                                     Yes                      Yes  \n",
       "multiple_lines                                     No                       No  \n",
       "internet_service_type_id                            3                        3  \n",
       "online_security                   No internet service      No internet service  \n",
       "online_backup                     No internet service      No internet service  \n",
       "device_protection                 No internet service      No internet service  \n",
       "tech_support                      No internet service      No internet service  \n",
       "streaming_tv                      No internet service      No internet service  \n",
       "streaming_movies                  No internet service      No internet service  \n",
       "contract_type_id                                    3                        3  \n",
       "paperless_billing                                 Yes                       No  \n",
       "payment_type_id                                     3                        4  \n",
       "monthly_charges                                 19.25                    19.75  \n",
       "total_charges                                  1372.9                    856.5  \n",
       "churn                                              No                       No  \n",
       "contract_type_id.1                                  3                        3  \n",
       "contract_type                                Two year                 Two year  \n",
       "internet_service_type_id.1                          3                        3  \n",
       "internet_service_type                            None                     None  \n",
       "payment_type_id.1                                   3                        4  \n",
       "payment_type                Bank transfer (automatic)  Credit card (automatic)  \n",
       "\n",
       "[27 rows x 7043 columns]"
      ]
     },
     "execution_count": 11,
     "metadata": {},
     "output_type": "execute_result"
    }
   ],
   "source": [
    "full_df.T"
   ]
  },
  {
   "cell_type": "code",
   "execution_count": 12,
   "metadata": {},
   "outputs": [
    {
     "data": {
      "text/plain": [
       "Index(['customer_id', 'gender', 'senior_citizen', 'partner', 'dependents',\n",
       "       'tenure', 'phone_service', 'multiple_lines', 'internet_service_type_id',\n",
       "       'online_security', 'online_backup', 'device_protection', 'tech_support',\n",
       "       'streaming_tv', 'streaming_movies', 'contract_type_id',\n",
       "       'paperless_billing', 'payment_type_id', 'monthly_charges',\n",
       "       'total_charges', 'churn', 'contract_type_id.1', 'contract_type',\n",
       "       'internet_service_type_id.1', 'internet_service_type',\n",
       "       'payment_type_id.1', 'payment_type'],\n",
       "      dtype='object')"
      ]
     },
     "execution_count": 12,
     "metadata": {},
     "output_type": "execute_result"
    }
   ],
   "source": [
    "full_df.columns"
   ]
  },
  {
   "cell_type": "markdown",
   "metadata": {},
   "source": [
    "What is the shape of the dataframe?"
   ]
  },
  {
   "cell_type": "code",
   "execution_count": 13,
   "metadata": {},
   "outputs": [
    {
     "data": {
      "text/plain": [
       "(7043, 27)"
      ]
     },
     "execution_count": 13,
     "metadata": {},
     "output_type": "execute_result"
    }
   ],
   "source": [
    "full_df.shape"
   ]
  },
  {
   "cell_type": "markdown",
   "metadata": {},
   "source": [
    "And what is general layout of the data?"
   ]
  },
  {
   "cell_type": "code",
   "execution_count": 14,
   "metadata": {},
   "outputs": [
    {
     "data": {
      "text/html": [
       "<div>\n",
       "<style scoped>\n",
       "    .dataframe tbody tr th:only-of-type {\n",
       "        vertical-align: middle;\n",
       "    }\n",
       "\n",
       "    .dataframe tbody tr th {\n",
       "        vertical-align: top;\n",
       "    }\n",
       "\n",
       "    .dataframe thead th {\n",
       "        text-align: right;\n",
       "    }\n",
       "</style>\n",
       "<table border=\"1\" class=\"dataframe\">\n",
       "  <thead>\n",
       "    <tr style=\"text-align: right;\">\n",
       "      <th></th>\n",
       "      <th>senior_citizen</th>\n",
       "      <th>tenure</th>\n",
       "      <th>internet_service_type_id</th>\n",
       "      <th>contract_type_id</th>\n",
       "      <th>payment_type_id</th>\n",
       "      <th>monthly_charges</th>\n",
       "      <th>total_charges</th>\n",
       "      <th>contract_type_id.1</th>\n",
       "      <th>internet_service_type_id.1</th>\n",
       "      <th>payment_type_id.1</th>\n",
       "    </tr>\n",
       "  </thead>\n",
       "  <tbody>\n",
       "    <tr>\n",
       "      <th>count</th>\n",
       "      <td>7043.000000</td>\n",
       "      <td>7043.000000</td>\n",
       "      <td>7043.000000</td>\n",
       "      <td>7043.000000</td>\n",
       "      <td>7043.000000</td>\n",
       "      <td>7043.000000</td>\n",
       "      <td>7043.000000</td>\n",
       "      <td>7043.000000</td>\n",
       "      <td>7043.000000</td>\n",
       "      <td>7043.000000</td>\n",
       "    </tr>\n",
       "    <tr>\n",
       "      <th>mean</th>\n",
       "      <td>0.162147</td>\n",
       "      <td>32.371149</td>\n",
       "      <td>1.872923</td>\n",
       "      <td>1.690473</td>\n",
       "      <td>2.315633</td>\n",
       "      <td>64.761692</td>\n",
       "      <td>2279.734304</td>\n",
       "      <td>1.690473</td>\n",
       "      <td>1.872923</td>\n",
       "      <td>2.315633</td>\n",
       "    </tr>\n",
       "    <tr>\n",
       "      <th>std</th>\n",
       "      <td>0.368612</td>\n",
       "      <td>24.559481</td>\n",
       "      <td>0.737796</td>\n",
       "      <td>0.833755</td>\n",
       "      <td>1.148907</td>\n",
       "      <td>30.090047</td>\n",
       "      <td>2266.794470</td>\n",
       "      <td>0.833755</td>\n",
       "      <td>0.737796</td>\n",
       "      <td>1.148907</td>\n",
       "    </tr>\n",
       "    <tr>\n",
       "      <th>min</th>\n",
       "      <td>0.000000</td>\n",
       "      <td>0.000000</td>\n",
       "      <td>1.000000</td>\n",
       "      <td>1.000000</td>\n",
       "      <td>1.000000</td>\n",
       "      <td>18.250000</td>\n",
       "      <td>0.000000</td>\n",
       "      <td>1.000000</td>\n",
       "      <td>1.000000</td>\n",
       "      <td>1.000000</td>\n",
       "    </tr>\n",
       "    <tr>\n",
       "      <th>25%</th>\n",
       "      <td>0.000000</td>\n",
       "      <td>9.000000</td>\n",
       "      <td>1.000000</td>\n",
       "      <td>1.000000</td>\n",
       "      <td>1.000000</td>\n",
       "      <td>35.500000</td>\n",
       "      <td>398.550000</td>\n",
       "      <td>1.000000</td>\n",
       "      <td>1.000000</td>\n",
       "      <td>1.000000</td>\n",
       "    </tr>\n",
       "    <tr>\n",
       "      <th>50%</th>\n",
       "      <td>0.000000</td>\n",
       "      <td>29.000000</td>\n",
       "      <td>2.000000</td>\n",
       "      <td>1.000000</td>\n",
       "      <td>2.000000</td>\n",
       "      <td>70.350000</td>\n",
       "      <td>1394.550000</td>\n",
       "      <td>1.000000</td>\n",
       "      <td>2.000000</td>\n",
       "      <td>2.000000</td>\n",
       "    </tr>\n",
       "    <tr>\n",
       "      <th>75%</th>\n",
       "      <td>0.000000</td>\n",
       "      <td>55.000000</td>\n",
       "      <td>2.000000</td>\n",
       "      <td>2.000000</td>\n",
       "      <td>3.000000</td>\n",
       "      <td>89.850000</td>\n",
       "      <td>3786.600000</td>\n",
       "      <td>2.000000</td>\n",
       "      <td>2.000000</td>\n",
       "      <td>3.000000</td>\n",
       "    </tr>\n",
       "    <tr>\n",
       "      <th>max</th>\n",
       "      <td>1.000000</td>\n",
       "      <td>72.000000</td>\n",
       "      <td>3.000000</td>\n",
       "      <td>3.000000</td>\n",
       "      <td>4.000000</td>\n",
       "      <td>118.750000</td>\n",
       "      <td>8684.800000</td>\n",
       "      <td>3.000000</td>\n",
       "      <td>3.000000</td>\n",
       "      <td>4.000000</td>\n",
       "    </tr>\n",
       "  </tbody>\n",
       "</table>\n",
       "</div>"
      ],
      "text/plain": [
       "       senior_citizen       tenure  internet_service_type_id  \\\n",
       "count     7043.000000  7043.000000               7043.000000   \n",
       "mean         0.162147    32.371149                  1.872923   \n",
       "std          0.368612    24.559481                  0.737796   \n",
       "min          0.000000     0.000000                  1.000000   \n",
       "25%          0.000000     9.000000                  1.000000   \n",
       "50%          0.000000    29.000000                  2.000000   \n",
       "75%          0.000000    55.000000                  2.000000   \n",
       "max          1.000000    72.000000                  3.000000   \n",
       "\n",
       "       contract_type_id  payment_type_id  monthly_charges  total_charges  \\\n",
       "count       7043.000000      7043.000000      7043.000000    7043.000000   \n",
       "mean           1.690473         2.315633        64.761692    2279.734304   \n",
       "std            0.833755         1.148907        30.090047    2266.794470   \n",
       "min            1.000000         1.000000        18.250000       0.000000   \n",
       "25%            1.000000         1.000000        35.500000     398.550000   \n",
       "50%            1.000000         2.000000        70.350000    1394.550000   \n",
       "75%            2.000000         3.000000        89.850000    3786.600000   \n",
       "max            3.000000         4.000000       118.750000    8684.800000   \n",
       "\n",
       "       contract_type_id.1  internet_service_type_id.1  payment_type_id.1  \n",
       "count         7043.000000                 7043.000000        7043.000000  \n",
       "mean             1.690473                    1.872923           2.315633  \n",
       "std              0.833755                    0.737796           1.148907  \n",
       "min              1.000000                    1.000000           1.000000  \n",
       "25%              1.000000                    1.000000           1.000000  \n",
       "50%              1.000000                    2.000000           2.000000  \n",
       "75%              2.000000                    2.000000           3.000000  \n",
       "max              3.000000                    3.000000           4.000000  "
      ]
     },
     "execution_count": 14,
     "metadata": {},
     "output_type": "execute_result"
    }
   ],
   "source": [
    "full_df.describe()"
   ]
  },
  {
   "cell_type": "markdown",
   "metadata": {},
   "source": [
    "- We conduct analysis and build models because stakeholders want insight into the contributing factors, especially ones that are non-obvious or ones where they may have only a hunch they want to confirm or deny. Stakeholders want predictive power above and beyond a * b yielding c, so I suggest analyzing different independent variables."
   ]
  },
  {
   "cell_type": "markdown",
   "metadata": {},
   "source": [
    "We will only need customer_id, tenure, monthly_charges, and total_charges."
   ]
  },
  {
   "cell_type": "code",
   "execution_count": 15,
   "metadata": {},
   "outputs": [],
   "source": [
    "df = full_df[['customer_id', 'tenure', 'monthly_charges', 'total_charges']]"
   ]
  },
  {
   "cell_type": "markdown",
   "metadata": {},
   "source": [
    "Show the distribution of the monthly charges."
   ]
  },
  {
   "cell_type": "code",
   "execution_count": 16,
   "metadata": {},
   "outputs": [
    {
     "data": {
      "text/plain": [
       "<matplotlib.axes._subplots.AxesSubplot at 0x1c176c7780>"
      ]
     },
     "execution_count": 16,
     "metadata": {},
     "output_type": "execute_result"
    },
    {
     "data": {
      "image/png": "[encoded data removed]",
      "text/plain": [
       "<Figure size 432x288 with 1 Axes>"
      ]
     },
     "metadata": {
      "needs_background": "light"
     },
     "output_type": "display_data"
    }
   ],
   "source": [
    "sns.distplot(df.monthly_charges)"
   ]
  },
  {
   "cell_type": "markdown",
   "metadata": {},
   "source": [
    "Let's make a boxplot of each feature in the dataframe. "
   ]
  },
  {
   "cell_type": "code",
   "execution_count": 17,
   "metadata": {},
   "outputs": [
    {
     "data": {
      "image/png": "[encoded data removed]",
      "text/plain": [
       "<Figure size 576x288 with 1 Axes>"
      ]
     },
     "metadata": {
      "needs_background": "light"
     },
     "output_type": "display_data"
    }
   ],
   "source": [
    "plt.figure(figsize=(8,4))\n",
    "x_plt = sns.boxplot(data=df.drop(columns=['customer_id']))\n",
    "x_plt.set_yscale('log')"
   ]
  },
  {
   "cell_type": "markdown",
   "metadata": {},
   "source": [
    "Now let's split our data into test and train datasets."
   ]
  },
  {
   "cell_type": "code",
   "execution_count": 18,
   "metadata": {},
   "outputs": [],
   "source": [
    "X = df.drop(['total_charges', 'customer_id'], axis=1)\n",
    "y = df[['total_charges']]\n",
    "\n",
    "X_train, X_test, y_train, y_test = train_test_split(X, y, train_size=.8, random_state=123)\n",
    "\n",
    "train = pd.concat([X_train, y_train], axis=1)\n",
    "test = pd.concat([X_test, y_test], axis=1)"
   ]
  },
  {
   "cell_type": "markdown",
   "metadata": {},
   "source": [
    "### Explore the data."
   ]
  },
  {
   "cell_type": "markdown",
   "metadata": {},
   "source": [
    "Using the full train set with both X_train and y_train, create a scatterplot for each combination of variables."
   ]
  },
  {
   "cell_type": "code",
   "execution_count": 19,
   "metadata": {},
   "outputs": [
    {
     "data": {
      "text/plain": [
       "<seaborn.axisgrid.PairGrid at 0x1c183629b0>"
      ]
     },
     "execution_count": 19,
     "metadata": {},
     "output_type": "execute_result"
    },
    {
     "data": {
      "image/png": "[encoded data removed]",
      "text/plain": [
       "<Figure size 540x540 with 12 Axes>"
      ]
     },
     "metadata": {
      "needs_background": "light"
     },
     "output_type": "display_data"
    }
   ],
   "source": [
    "g = sns.PairGrid(train)\n",
    "g.map_diag(plt.hist)\n",
    "g.map_offdiag(plt.scatter)"
   ]
  },
  {
   "cell_type": "markdown",
   "metadata": {},
   "source": [
    "Now let's look at a heatmap of the three features."
   ]
  },
  {
   "cell_type": "code",
   "execution_count": 20,
   "metadata": {},
   "outputs": [
    {
     "data": {
      "text/plain": [
       "<matplotlib.axes._subplots.AxesSubplot at 0x1c187991d0>"
      ]
     },
     "execution_count": 20,
     "metadata": {},
     "output_type": "execute_result"
    },
    {
     "data": {
      "image/png": "[encoded data removed]",
      "text/plain": [
       "<Figure size 576x288 with 2 Axes>"
      ]
     },
     "metadata": {
      "needs_background": "light"
     },
     "output_type": "display_data"
    }
   ],
   "source": [
    "plt.figure(figsize=(8,4))\n",
    "sns.heatmap(train.corr(), cmap='Blues', annot=True)"
   ]
  },
  {
   "cell_type": "markdown",
   "metadata": {},
   "source": [
    "- Recommend graphing out the distribution of each of your independent variables before selecting Pearson's R. Definitionally, Pearson's R assumes a normal distribution, and both tenure and monthly_charges are not normally distributed. (Recommend Spearman's R for non-normal distributions). However, Spearman's R gives us 0.0 p-value here due to the relationship between tenure * monthly_charges being super close to total_charges already."
   ]
  },
  {
   "cell_type": "markdown",
   "metadata": {},
   "source": [
    "Compute the Pearson correlation coefficients and the p-values for each feature with total_charges.\n",
    "\n",
    "We use the Pearson correlation coefficient to examine the strength and direction of the linear relationship between two continuous variables. The correlation coefficient can range in value from −1 to +1. The larger the absolute value of the coefficient, the stronger the relationship between the variables.\n",
    "\n",
    "The p-values give the probability of finding the observed, or more extreme, results in each case."
   ]
  },
  {
   "cell_type": "code",
   "execution_count": 21,
   "metadata": {},
   "outputs": [
    {
     "name": "stdout",
     "output_type": "stream",
     "text": [
      "For monthly charges and total charges,\n",
      "Pearson's R is 0.651173831578784\n",
      "with a significance p-value of 0.0 .\n"
     ]
    }
   ],
   "source": [
    "pearsonsR, pvalue = stats.pearsonr(df.monthly_charges, df.total_charges)\n",
    "print(\"For monthly charges and total charges,\")\n",
    "print(\"Pearson's R is\", pearsonsR)\n",
    "print(\"with a significance p-value of\", pvalue, '.')"
   ]
  },
  {
   "cell_type": "code",
   "execution_count": 22,
   "metadata": {},
   "outputs": [
    {
     "name": "stdout",
     "output_type": "stream",
     "text": [
      "For tenure and total charges,\n",
      "Pearson's R is 0.826178397950242\n",
      "with a significance p-value of 0.0 .\n"
     ]
    }
   ],
   "source": [
    "pearsonsR, pvalue = stats.pearsonr(df.tenure, df.total_charges)\n",
    "print(\"For tenure and total charges,\")\n",
    "print(\"Pearson's R is\", pearsonsR)\n",
    "print(\"with a significance p-value of\", pvalue, '.')"
   ]
  },
  {
   "cell_type": "markdown",
   "metadata": {},
   "source": [
    "So tenure has a stronger correlation with total charges than monthly charges does. Both have a p-value of zero, though."
   ]
  },
  {
   "cell_type": "markdown",
   "metadata": {},
   "source": [
    "- A p-value of absolutely zero ain't conclusive, it means that we probably need to select different independent variables for our exploration and our model.\n",
    "- I recommend avoiding monthly_charges and tenure to predict total_charges because the relationship is so tight and direct. When I calculate tenure*monthly_charges, all of the results are within 1% or less of the total_charges field. There's too tight of a relationship between these two variables because we can multiply tenure * monthly_charges and get the total_charges (within 1% or less)."
   ]
  },
  {
   "cell_type": "markdown",
   "metadata": {},
   "source": [
    "### Model"
   ]
  },
  {
   "cell_type": "markdown",
   "metadata": {},
   "source": [
    "# Modeling\n",
    "- I see that the only linear model takes in tenure to predict total_charges. Recommend making a few regressions of your different independent variables that you identified earlier.  \n",
    "- I recommend making a few models to give yourself options. That way, in the evaluation, you can compare each model and select the one with the least amount of error and highest predictive power.\n",
    "- Again, I'd recommend building your regression to predict total_charges based on features *other* than tenure and monthly_charges b/c total_charges is the direct multiplication product of both of those."
   ]
  },
  {
   "cell_type": "markdown",
   "metadata": {},
   "source": [
    "Train/fit a linear regression model that models total charges as a linear function of tenure."
   ]
  },
  {
   "cell_type": "code",
   "execution_count": 23,
   "metadata": {},
   "outputs": [],
   "source": [
    "lm1 = LinearRegression(fit_intercept=False)\n",
    "lm1.fit(X_train[['tenure']], y_train)\n",
    "# Find the y-intercept and the coefficent of\n",
    "# the regression equation, y = mx + b.\n",
    "lm1_y_intercept = lm1.intercept_\n",
    "lm1_coefficients = lm1.coef_"
   ]
  },
  {
   "cell_type": "code",
   "execution_count": 24,
   "metadata": {},
   "outputs": [
    {
     "name": "stdout",
     "output_type": "stream",
     "text": [
      "The linear function, y = mx + b, is\n",
      "total charges =  72.82388581167767 * tenure +  0.0\n"
     ]
    }
   ],
   "source": [
    "print('The linear function, y = mx + b, is')\n",
    "print('total charges = ', lm1_coefficients[0][0], '* tenure + ', lm1_y_intercept)"
   ]
  },
  {
   "cell_type": "markdown",
   "metadata": {},
   "source": [
    "Let's test our model on the training sample. First, create the predictions."
   ]
  },
  {
   "cell_type": "code",
   "execution_count": 25,
   "metadata": {},
   "outputs": [],
   "source": [
    "y_pred_lm1 = lm1.predict(X_train[['tenure']])"
   ]
  },
  {
   "cell_type": "markdown",
   "metadata": {},
   "source": [
    "Now evaluate the model's performance using r-squared, mean squared error, and median absolute error."
   ]
  },
  {
   "cell_type": "code",
   "execution_count": 26,
   "metadata": {},
   "outputs": [
    {
     "name": "stdout",
     "output_type": "stream",
     "text": [
      "For lm1:\n",
      "mse = 1620482.17\n",
      "mae = 478.77\n",
      " r2 = 0.69\n"
     ]
    }
   ],
   "source": [
    "mse_lm1 = mean_squared_error(y_train, y_pred_lm1)\n",
    "mae_lm1 = median_absolute_error(y_train, y_pred_lm1)\n",
    "r2_lm1 = r2_score(y_train, y_pred_lm1)\n",
    "\n",
    "print(\"For lm1:\")\n",
    "print(\"mse = %.2f\" % mse_lm1)\n",
    "print(\"mae = %.2f\" % mae_lm1)\n",
    "print(\" r2 = %.2f\" % r2_lm1)"
   ]
  },
  {
   "cell_type": "markdown",
   "metadata": {},
   "source": [
    "Now let's test our model on the test data."
   ]
  },
  {
   "cell_type": "code",
   "execution_count": 27,
   "metadata": {},
   "outputs": [],
   "source": [
    "y_pred_test_lm1 = lm1.predict(X_test[['tenure']])"
   ]
  },
  {
   "cell_type": "code",
   "execution_count": 28,
   "metadata": {},
   "outputs": [
    {
     "name": "stdout",
     "output_type": "stream",
     "text": [
      "For lm1:\n",
      "mse = 1737852.22\n",
      "mae = 502.42\n",
      " r2 = 0.65\n"
     ]
    }
   ],
   "source": [
    "mse_lm2 = mean_squared_error(y_test, y_pred_test_lm1)\n",
    "mae_lm2 = median_absolute_error(y_test, y_pred_test_lm1)\n",
    "r2_lm2 = r2_score(y_test, y_pred_test_lm1)\n",
    "\n",
    "print(\"For lm1:\")\n",
    "print(\"mse = %.2f\" % mse_lm2)\n",
    "print(\"mae = %.2f\" % mae_lm2)\n",
    "print(\" r2 = %.2f\" % r2_lm2)"
   ]
  },
  {
   "cell_type": "markdown",
   "metadata": {},
   "source": [
    "Calculate the p-value of the regressor for the train and test samples."
   ]
  },
  {
   "cell_type": "code",
   "execution_count": 29,
   "metadata": {},
   "outputs": [
    {
     "data": {
      "text/plain": [
       "(array([2698.08760902]), array([0.]))"
      ]
     },
     "execution_count": 29,
     "metadata": {},
     "output_type": "execute_result"
    }
   ],
   "source": [
    "f_regression(X_test[['tenure']], y_test)"
   ]
  },
  {
   "cell_type": "markdown",
   "metadata": {},
   "source": [
    "Create a scatter plot of the predicted values versus the actual values in the test sample."
   ]
  },
  {
   "cell_type": "code",
   "execution_count": 30,
   "metadata": {},
   "outputs": [
    {
     "data": {
      "text/plain": [
       "Text(0.5, 1, 'Predicted vs Actual Total Charges')"
      ]
     },
     "execution_count": 30,
     "metadata": {},
     "output_type": "execute_result"
    },
    {
     "data": {
      "image/png": "[encoded data removed]",
      "text/plain": [
       "<Figure size 440.575x360 with 1 Axes>"
      ]
     },
     "metadata": {
      "needs_background": "light"
     },
     "output_type": "display_data"
    }
   ],
   "source": [
    "pd.DataFrame({'actual': y_test.total_charges,\n",
    "              'lm1': y_pred_test_lm1.ravel(),})\\\n",
    "    .melt(id_vars=['actual'], var_name='model', value_name='prediction')\\\n",
    "    .pipe((sns.relplot, 'data'), x='actual', y='prediction', hue='model')\n",
    "\n",
    "plt.plot([0, 9000], [0, 9000], c='black', ls=':')\n",
    "plt.title('Predicted vs Actual Total Charges')"
   ]
  },
  {
   "cell_type": "markdown",
   "metadata": {},
   "source": [
    "Create a scatter plot of the actual values of x and y in the test sample with the regression line layered over."
   ]
  },
  {
   "cell_type": "code",
   "execution_count": 31,
   "metadata": {},
   "outputs": [
    {
     "data": {
      "text/plain": [
       "Text(0.5, 1.0, 'Actual values of x vs Actual values of y')"
      ]
     },
     "execution_count": 31,
     "metadata": {},
     "output_type": "execute_result"
    },
    {
     "data": {
      "image/png": "[encoded data removed]",
      "text/plain": [
       "<Figure size 432x288 with 1 Axes>"
      ]
     },
     "metadata": {
      "needs_background": "light"
     },
     "output_type": "display_data"
    }
   ],
   "source": [
    "sns.regplot(X_test[['tenure']], y_test.total_charges, data=df);\n",
    "plt.title('Actual values of x vs Actual values of y')"
   ]
  },
  {
   "cell_type": "markdown",
   "metadata": {},
   "source": [
    "Create a scatter plot of the residuals. \n",
    "- x-axis: predicted values of final grade\n",
    "- y-axis: the residual values\n",
    "\n",
    "Layer over it a horizonal line that represents where no residuals would be (residuals = 0)."
   ]
  },
  {
   "cell_type": "code",
   "execution_count": 32,
   "metadata": {},
   "outputs": [
    {
     "data": {
      "text/plain": [
       "Text(0, 0.5, 'Residuals')"
      ]
     },
     "execution_count": 32,
     "metadata": {},
     "output_type": "execute_result"
    },
    {
     "data": {
      "image/png": "[encoded data removed]",
      "text/plain": [
       "<Figure size 432x288 with 1 Axes>"
      ]
     },
     "metadata": {
      "needs_background": "light"
     },
     "output_type": "display_data"
    }
   ],
   "source": [
    "plt.scatter(y_pred_test_lm1, y_pred_test_lm1 - y_test, c='g', s=40)\n",
    "plt.hlines(y=0, xmin=0, xmax=5000)\n",
    "plt.title(\"Residual plot\")\n",
    "plt.ylabel('Residuals')"
   ]
  },
  {
   "cell_type": "markdown",
   "metadata": {},
   "source": [
    "# Conclusion\n",
    "- Be sure to state your conclusion and your recommendation both at the beginning and the end of your presentation. What are the conclusions? What are your recommendations?\n",
    "- Recap your objectives in the conclusion and explain how your analysis supports, rejects, or is inconclusive in predicting your target variable."
   ]
  },
  {
   "cell_type": "code",
   "execution_count": null,
   "metadata": {},
   "outputs": [],
   "source": []
  }
 ],
 "metadata": {
  "kernelspec": {
   "display_name": "Python 3",
   "language": "python",
   "name": "python3"
  },
  "language_info": {
   "codemirror_mode": {
    "name": "ipython",
    "version": 3
   },
   "file_extension": ".py",
   "mimetype": "text/x-python",
   "name": "python",
   "nbconvert_exporter": "python",
   "pygments_lexer": "ipython3",
   "version": "3.7.3"
  }
 },
 "nbformat": 4,
 "nbformat_minor": 2
}
